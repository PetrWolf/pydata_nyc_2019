{
 "cells": [
  {
   "cell_type": "markdown",
   "metadata": {},
   "source": [
    "# From Raw Recruit Scripts to Perfect Python (in 90 minutes)\n",
    "\n",
    "[PyData NYC 2019 tutorial](https://pydata.org/nyc2019/schedule/presentation/14/from-raw-recruit-scripts-to-perfect-python-in-90-minutes/) by [Stanley van der Merwe](https://pydata.org/nyc2019/speaker/profile/153/stanley-van-der-merwe) and [Petr Wolf](https://pydata.org/nyc2019/speaker/profile/119/petr-wolf)\n",
    "\n",
    "Audience level: Novice"
   ]
  },
  {
   "cell_type": "markdown",
   "metadata": {},
   "source": [
    "## https://github.com/PetrWolf/pydata_nyc_2019\n",
    "* setup instructions: [`README.md`](README.md)\n",
    "* slides: [`tutorial.pdf`](tutorial.pdf)\n",
    "* sample notebook: [`sample_notebook.ipynb`](sample_notebook.ipynb)\n",
    "* practical exercises: [`exercises`](exercises)\n",
    "* sample solutions: [`solutions`](solutions)"
   ]
  },
  {
   "cell_type": "code",
   "execution_count": null,
   "metadata": {},
   "outputs": [],
   "source": []
  }
 ],
 "metadata": {
  "kernelspec": {
   "display_name": "Python 3",
   "language": "python",
   "name": "python3"
  },
  "language_info": {
   "codemirror_mode": {
    "name": "ipython",
    "version": 3
   },
   "file_extension": ".py",
   "mimetype": "text/x-python",
   "name": "python",
   "nbconvert_exporter": "python",
   "pygments_lexer": "ipython3",
   "version": "3.6.9"
  }
 },
 "nbformat": 4,
 "nbformat_minor": 2
}
