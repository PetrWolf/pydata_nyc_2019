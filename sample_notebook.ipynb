{
 "cells": [
  {
   "cell_type": "markdown",
   "metadata": {},
   "source": [
    "# Sample notebook\n",
    "\n",
    "This notebook represents a sample model development process with many critical flaws and typical shortcommings.\n",
    "\n",
    "It was created for instructional purposed on how NOT to do things. Please DO NOT use for any real modeling!"
   ]
  },
  {
   "cell_type": "markdown",
   "metadata": {},
   "source": [
    "## Setup"
   ]
  },
  {
   "cell_type": "code",
   "execution_count": 1,
   "metadata": {},
   "outputs": [],
   "source": [
    "import os\n",
    "import pandas as pd\n",
    "import numpy as np\n",
    "import seaborn as sns\n",
    "import matplotlib.pyplot as plt\n",
    "import statsmodels.api as sm"
   ]
  },
  {
   "cell_type": "code",
   "execution_count": 2,
   "metadata": {},
   "outputs": [],
   "source": [
    "%matplotlib inline\n",
    "sns.set_style(\"darkgrid\")"
   ]
  },
  {
   "cell_type": "markdown",
   "metadata": {},
   "source": [
    "## Data loading\n",
    "\n",
    "For the purpose of this tutorial, we will use an artifically generated dataset based on a [California Housing Dataset](https://github.com/ageron/handson-ml/tree/master/datasets/housing) from [Hands-On Machine Learning with Scikit-Learn and TensorFlow](https://eliot.readthedocs.io/en/stable/) by Geron Aurelien. "
   ]
  },
  {
   "cell_type": "code",
   "execution_count": 3,
   "metadata": {},
   "outputs": [],
   "source": [
    "# Uncomment on Michael's copmuter\n",
    "# df = pd.read_csv(\"/home/michael/data.csv\")\n",
    "# Download from http://some.link/that/does/not/work/anymore.csv\n",
    "df = pd.read_csv(\"data/housing.csv\")"
   ]
  },
  {
   "cell_type": "code",
   "execution_count": 4,
   "metadata": {},
   "outputs": [
    {
     "data": {
      "text/html": [
       "<div>\n",
       "<style scoped>\n",
       "    .dataframe tbody tr th:only-of-type {\n",
       "        vertical-align: middle;\n",
       "    }\n",
       "\n",
       "    .dataframe tbody tr th {\n",
       "        vertical-align: top;\n",
       "    }\n",
       "\n",
       "    .dataframe thead th {\n",
       "        text-align: right;\n",
       "    }\n",
       "</style>\n",
       "<table border=\"1\" class=\"dataframe\">\n",
       "  <thead>\n",
       "    <tr style=\"text-align: right;\">\n",
       "      <th></th>\n",
       "      <th>median_house_value</th>\n",
       "      <th>housing_median_age</th>\n",
       "      <th>total_rooms</th>\n",
       "      <th>total_bedrooms</th>\n",
       "      <th>households</th>\n",
       "      <th>median_income</th>\n",
       "      <th>location</th>\n",
       "      <th>near_ocean</th>\n",
       "    </tr>\n",
       "  </thead>\n",
       "  <tbody>\n",
       "    <tr>\n",
       "      <td>0</td>\n",
       "      <td>193,734.11</td>\n",
       "      <td>None</td>\n",
       "      <td>2229.0</td>\n",
       "      <td>542.0</td>\n",
       "      <td>559.0</td>\n",
       "      <td>4.18</td>\n",
       "      <td>38.76 N 124.85 W</td>\n",
       "      <td>Yes</td>\n",
       "    </tr>\n",
       "    <tr>\n",
       "      <td>1</td>\n",
       "      <td>293,063.40</td>\n",
       "      <td>33.22</td>\n",
       "      <td>2111.0</td>\n",
       "      <td>356.0</td>\n",
       "      <td>364.0</td>\n",
       "      <td>5.35</td>\n",
       "      <td>32.32 N 102.63 W</td>\n",
       "      <td>No</td>\n",
       "    </tr>\n",
       "    <tr>\n",
       "      <td>2</td>\n",
       "      <td>237,055.75</td>\n",
       "      <td>19.66</td>\n",
       "      <td>3314.0</td>\n",
       "      <td>975.0</td>\n",
       "      <td>781.0</td>\n",
       "      <td>4.33</td>\n",
       "      <td>32.69 N 117.07 W</td>\n",
       "      <td>yes</td>\n",
       "    </tr>\n",
       "    <tr>\n",
       "      <td>3</td>\n",
       "      <td>373,789.89</td>\n",
       "      <td>29.8</td>\n",
       "      <td>1810.0</td>\n",
       "      <td>230.0</td>\n",
       "      <td>296.0</td>\n",
       "      <td>6.03</td>\n",
       "      <td>37.4 N 122.94 W</td>\n",
       "      <td>Yes</td>\n",
       "    </tr>\n",
       "    <tr>\n",
       "      <td>4</td>\n",
       "      <td>59,804.22</td>\n",
       "      <td>14.21</td>\n",
       "      <td>3021.0</td>\n",
       "      <td>840.0</td>\n",
       "      <td>775.0</td>\n",
       "      <td>1.81</td>\n",
       "      <td>36.46 N 129.12 W</td>\n",
       "      <td>no</td>\n",
       "    </tr>\n",
       "    <tr>\n",
       "      <td>...</td>\n",
       "      <td>...</td>\n",
       "      <td>...</td>\n",
       "      <td>...</td>\n",
       "      <td>...</td>\n",
       "      <td>...</td>\n",
       "      <td>...</td>\n",
       "      <td>...</td>\n",
       "      <td>...</td>\n",
       "    </tr>\n",
       "    <tr>\n",
       "      <td>9995</td>\n",
       "      <td>140,065.16</td>\n",
       "      <td>16.66</td>\n",
       "      <td>725.0</td>\n",
       "      <td>240.0</td>\n",
       "      <td>211.0</td>\n",
       "      <td>2.70</td>\n",
       "      <td>39.02 N 121.58 W</td>\n",
       "      <td>Yes</td>\n",
       "    </tr>\n",
       "    <tr>\n",
       "      <td>9996</td>\n",
       "      <td>161,536.46</td>\n",
       "      <td>25.5</td>\n",
       "      <td>1013.0</td>\n",
       "      <td>157.0</td>\n",
       "      <td>164.0</td>\n",
       "      <td>4.87</td>\n",
       "      <td>43.64 N 129.87 W</td>\n",
       "      <td>No</td>\n",
       "    </tr>\n",
       "    <tr>\n",
       "      <td>9997</td>\n",
       "      <td>87,789.04</td>\n",
       "      <td>27.97</td>\n",
       "      <td>723.0</td>\n",
       "      <td>234.0</td>\n",
       "      <td>224.0</td>\n",
       "      <td>1.76</td>\n",
       "      <td>35.19 N 136.01 W</td>\n",
       "      <td>Yes</td>\n",
       "    </tr>\n",
       "    <tr>\n",
       "      <td>9998</td>\n",
       "      <td>58,109.50</td>\n",
       "      <td>28.91</td>\n",
       "      <td>3188.0</td>\n",
       "      <td>659.0</td>\n",
       "      <td>582.0</td>\n",
       "      <td>1.35</td>\n",
       "      <td>40.03 N 106.03 W</td>\n",
       "      <td>No</td>\n",
       "    </tr>\n",
       "    <tr>\n",
       "      <td>9999</td>\n",
       "      <td>54,687.74</td>\n",
       "      <td>10.11</td>\n",
       "      <td>2399.0</td>\n",
       "      <td>537.0</td>\n",
       "      <td>557.0</td>\n",
       "      <td>1.36</td>\n",
       "      <td>34.84 N 114.26 W</td>\n",
       "      <td>No</td>\n",
       "    </tr>\n",
       "  </tbody>\n",
       "</table>\n",
       "<p>10000 rows × 8 columns</p>\n",
       "</div>"
      ],
      "text/plain": [
       "     median_house_value housing_median_age  total_rooms  total_bedrooms  \\\n",
       "0            193,734.11               None       2229.0           542.0   \n",
       "1            293,063.40              33.22       2111.0           356.0   \n",
       "2            237,055.75              19.66       3314.0           975.0   \n",
       "3            373,789.89               29.8       1810.0           230.0   \n",
       "4             59,804.22              14.21       3021.0           840.0   \n",
       "...                 ...                ...          ...             ...   \n",
       "9995         140,065.16              16.66        725.0           240.0   \n",
       "9996         161,536.46               25.5       1013.0           157.0   \n",
       "9997          87,789.04              27.97        723.0           234.0   \n",
       "9998          58,109.50              28.91       3188.0           659.0   \n",
       "9999          54,687.74              10.11       2399.0           537.0   \n",
       "\n",
       "      households  median_income          location near_ocean  \n",
       "0          559.0           4.18  38.76 N 124.85 W        Yes  \n",
       "1          364.0           5.35  32.32 N 102.63 W         No  \n",
       "2          781.0           4.33  32.69 N 117.07 W        yes  \n",
       "3          296.0           6.03   37.4 N 122.94 W        Yes  \n",
       "4          775.0           1.81  36.46 N 129.12 W         no  \n",
       "...          ...            ...               ...        ...  \n",
       "9995       211.0           2.70  39.02 N 121.58 W        Yes  \n",
       "9996       164.0           4.87  43.64 N 129.87 W         No  \n",
       "9997       224.0           1.76  35.19 N 136.01 W        Yes  \n",
       "9998       582.0           1.35  40.03 N 106.03 W         No  \n",
       "9999       557.0           1.36  34.84 N 114.26 W         No  \n",
       "\n",
       "[10000 rows x 8 columns]"
      ]
     },
     "execution_count": 4,
     "metadata": {},
     "output_type": "execute_result"
    }
   ],
   "source": [
    "df"
   ]
  },
  {
   "cell_type": "code",
   "execution_count": 5,
   "metadata": {},
   "outputs": [],
   "source": [
    "# change some columns to numeric\n",
    "df.median_house_value = df.median_house_value.replace({',': ''}, regex=True).apply(pd.to_numeric, 1)\n",
    "df.median_house_value = df.median_house_value.astype(float)"
   ]
  },
  {
   "cell_type": "code",
   "execution_count": 6,
   "metadata": {},
   "outputs": [],
   "source": [
    "df[\"housing_median_age\"] = pd.to_numeric(df[\"housing_median_age\"], errors=\"coerce\")"
   ]
  },
  {
   "cell_type": "code",
   "execution_count": 7,
   "metadata": {},
   "outputs": [
    {
     "data": {
      "text/html": [
       "<div>\n",
       "<style scoped>\n",
       "    .dataframe tbody tr th:only-of-type {\n",
       "        vertical-align: middle;\n",
       "    }\n",
       "\n",
       "    .dataframe tbody tr th {\n",
       "        vertical-align: top;\n",
       "    }\n",
       "\n",
       "    .dataframe thead th {\n",
       "        text-align: right;\n",
       "    }\n",
       "</style>\n",
       "<table border=\"1\" class=\"dataframe\">\n",
       "  <thead>\n",
       "    <tr style=\"text-align: right;\">\n",
       "      <th></th>\n",
       "      <th>median_house_value</th>\n",
       "      <th>housing_median_age</th>\n",
       "      <th>total_rooms</th>\n",
       "      <th>total_bedrooms</th>\n",
       "      <th>households</th>\n",
       "      <th>median_income</th>\n",
       "      <th>location</th>\n",
       "      <th>near_ocean</th>\n",
       "    </tr>\n",
       "  </thead>\n",
       "  <tbody>\n",
       "    <tr>\n",
       "      <td>0</td>\n",
       "      <td>193734.11</td>\n",
       "      <td>NaN</td>\n",
       "      <td>2229.0</td>\n",
       "      <td>542.0</td>\n",
       "      <td>559.0</td>\n",
       "      <td>4.18</td>\n",
       "      <td>38.76 N 124.85 W</td>\n",
       "      <td>Yes</td>\n",
       "    </tr>\n",
       "    <tr>\n",
       "      <td>1</td>\n",
       "      <td>293063.40</td>\n",
       "      <td>33.22</td>\n",
       "      <td>2111.0</td>\n",
       "      <td>356.0</td>\n",
       "      <td>364.0</td>\n",
       "      <td>5.35</td>\n",
       "      <td>32.32 N 102.63 W</td>\n",
       "      <td>No</td>\n",
       "    </tr>\n",
       "    <tr>\n",
       "      <td>2</td>\n",
       "      <td>237055.75</td>\n",
       "      <td>19.66</td>\n",
       "      <td>3314.0</td>\n",
       "      <td>975.0</td>\n",
       "      <td>781.0</td>\n",
       "      <td>4.33</td>\n",
       "      <td>32.69 N 117.07 W</td>\n",
       "      <td>yes</td>\n",
       "    </tr>\n",
       "    <tr>\n",
       "      <td>3</td>\n",
       "      <td>373789.89</td>\n",
       "      <td>29.80</td>\n",
       "      <td>1810.0</td>\n",
       "      <td>230.0</td>\n",
       "      <td>296.0</td>\n",
       "      <td>6.03</td>\n",
       "      <td>37.4 N 122.94 W</td>\n",
       "      <td>Yes</td>\n",
       "    </tr>\n",
       "    <tr>\n",
       "      <td>4</td>\n",
       "      <td>59804.22</td>\n",
       "      <td>14.21</td>\n",
       "      <td>3021.0</td>\n",
       "      <td>840.0</td>\n",
       "      <td>775.0</td>\n",
       "      <td>1.81</td>\n",
       "      <td>36.46 N 129.12 W</td>\n",
       "      <td>no</td>\n",
       "    </tr>\n",
       "  </tbody>\n",
       "</table>\n",
       "</div>"
      ],
      "text/plain": [
       "   median_house_value  housing_median_age  total_rooms  total_bedrooms  \\\n",
       "0           193734.11                 NaN       2229.0           542.0   \n",
       "1           293063.40               33.22       2111.0           356.0   \n",
       "2           237055.75               19.66       3314.0           975.0   \n",
       "3           373789.89               29.80       1810.0           230.0   \n",
       "4            59804.22               14.21       3021.0           840.0   \n",
       "\n",
       "   households  median_income          location near_ocean  \n",
       "0       559.0           4.18  38.76 N 124.85 W        Yes  \n",
       "1       364.0           5.35  32.32 N 102.63 W         No  \n",
       "2       781.0           4.33  32.69 N 117.07 W        yes  \n",
       "3       296.0           6.03   37.4 N 122.94 W        Yes  \n",
       "4       775.0           1.81  36.46 N 129.12 W         no  "
      ]
     },
     "execution_count": 7,
     "metadata": {},
     "output_type": "execute_result"
    }
   ],
   "source": [
    "df.head()"
   ]
  },
  {
   "cell_type": "markdown",
   "metadata": {},
   "source": [
    "### Parse the \"location\" column into \"latitude\" and \"longitude\"\n",
    "\n",
    "\"34.56 N 123.45 W\" -> 34.56, -123.45 "
   ]
  },
  {
   "cell_type": "code",
   "execution_count": 8,
   "metadata": {},
   "outputs": [],
   "source": [
    "df = df.join(\n",
    "    df[\"location\"].str.extract(\"([1-9][0-9]{0,2}\\.[0-9]{2}) [NS] ([1-9][0-9]{0,2}\\.[0-9]{2}) W\").rename(\n",
    "        columns={0: \"latitude\", 1: \"longitude\"}).astype(float)\n",
    ")\n",
    "df[\"longitude\"] *= -1"
   ]
  },
  {
   "cell_type": "code",
   "execution_count": 9,
   "metadata": {},
   "outputs": [],
   "source": [
    "df.drop(columns=[\"location\"], inplace=True)"
   ]
  },
  {
   "cell_type": "code",
   "execution_count": 10,
   "metadata": {},
   "outputs": [
    {
     "data": {
      "text/html": [
       "<div>\n",
       "<style scoped>\n",
       "    .dataframe tbody tr th:only-of-type {\n",
       "        vertical-align: middle;\n",
       "    }\n",
       "\n",
       "    .dataframe tbody tr th {\n",
       "        vertical-align: top;\n",
       "    }\n",
       "\n",
       "    .dataframe thead th {\n",
       "        text-align: right;\n",
       "    }\n",
       "</style>\n",
       "<table border=\"1\" class=\"dataframe\">\n",
       "  <thead>\n",
       "    <tr style=\"text-align: right;\">\n",
       "      <th></th>\n",
       "      <th>median_house_value</th>\n",
       "      <th>housing_median_age</th>\n",
       "      <th>total_rooms</th>\n",
       "      <th>total_bedrooms</th>\n",
       "      <th>households</th>\n",
       "      <th>median_income</th>\n",
       "      <th>near_ocean</th>\n",
       "      <th>latitude</th>\n",
       "      <th>longitude</th>\n",
       "    </tr>\n",
       "  </thead>\n",
       "  <tbody>\n",
       "    <tr>\n",
       "      <td>0</td>\n",
       "      <td>193734.11</td>\n",
       "      <td>NaN</td>\n",
       "      <td>2229.0</td>\n",
       "      <td>542.0</td>\n",
       "      <td>559.0</td>\n",
       "      <td>4.18</td>\n",
       "      <td>Yes</td>\n",
       "      <td>38.76</td>\n",
       "      <td>-124.85</td>\n",
       "    </tr>\n",
       "    <tr>\n",
       "      <td>1</td>\n",
       "      <td>293063.40</td>\n",
       "      <td>33.22</td>\n",
       "      <td>2111.0</td>\n",
       "      <td>356.0</td>\n",
       "      <td>364.0</td>\n",
       "      <td>5.35</td>\n",
       "      <td>No</td>\n",
       "      <td>32.32</td>\n",
       "      <td>-102.63</td>\n",
       "    </tr>\n",
       "    <tr>\n",
       "      <td>2</td>\n",
       "      <td>237055.75</td>\n",
       "      <td>19.66</td>\n",
       "      <td>3314.0</td>\n",
       "      <td>975.0</td>\n",
       "      <td>781.0</td>\n",
       "      <td>4.33</td>\n",
       "      <td>yes</td>\n",
       "      <td>32.69</td>\n",
       "      <td>-117.07</td>\n",
       "    </tr>\n",
       "    <tr>\n",
       "      <td>3</td>\n",
       "      <td>373789.89</td>\n",
       "      <td>29.80</td>\n",
       "      <td>1810.0</td>\n",
       "      <td>230.0</td>\n",
       "      <td>296.0</td>\n",
       "      <td>6.03</td>\n",
       "      <td>Yes</td>\n",
       "      <td>NaN</td>\n",
       "      <td>NaN</td>\n",
       "    </tr>\n",
       "    <tr>\n",
       "      <td>4</td>\n",
       "      <td>59804.22</td>\n",
       "      <td>14.21</td>\n",
       "      <td>3021.0</td>\n",
       "      <td>840.0</td>\n",
       "      <td>775.0</td>\n",
       "      <td>1.81</td>\n",
       "      <td>no</td>\n",
       "      <td>36.46</td>\n",
       "      <td>-129.12</td>\n",
       "    </tr>\n",
       "  </tbody>\n",
       "</table>\n",
       "</div>"
      ],
      "text/plain": [
       "   median_house_value  housing_median_age  total_rooms  total_bedrooms  \\\n",
       "0           193734.11                 NaN       2229.0           542.0   \n",
       "1           293063.40               33.22       2111.0           356.0   \n",
       "2           237055.75               19.66       3314.0           975.0   \n",
       "3           373789.89               29.80       1810.0           230.0   \n",
       "4            59804.22               14.21       3021.0           840.0   \n",
       "\n",
       "   households  median_income near_ocean  latitude  longitude  \n",
       "0       559.0           4.18        Yes     38.76    -124.85  \n",
       "1       364.0           5.35         No     32.32    -102.63  \n",
       "2       781.0           4.33        yes     32.69    -117.07  \n",
       "3       296.0           6.03        Yes       NaN        NaN  \n",
       "4       775.0           1.81         no     36.46    -129.12  "
      ]
     },
     "execution_count": 10,
     "metadata": {},
     "output_type": "execute_result"
    }
   ],
   "source": [
    "df.head()"
   ]
  },
  {
   "cell_type": "markdown",
   "metadata": {},
   "source": [
    "### Convert \"near_ocean\" to `bool`"
   ]
  },
  {
   "cell_type": "code",
   "execution_count": 11,
   "metadata": {},
   "outputs": [],
   "source": [
    "df[\"near_ocean\"] = df[\"near_ocean\"].apply(lambda near_ocean: 1 if near_ocean == \"Yes\" else 0)"
   ]
  },
  {
   "cell_type": "markdown",
   "metadata": {},
   "source": [
    "## Data review"
   ]
  },
  {
   "cell_type": "code",
   "execution_count": 12,
   "metadata": {},
   "outputs": [
    {
     "data": {
      "text/html": [
       "<div>\n",
       "<style scoped>\n",
       "    .dataframe tbody tr th:only-of-type {\n",
       "        vertical-align: middle;\n",
       "    }\n",
       "\n",
       "    .dataframe tbody tr th {\n",
       "        vertical-align: top;\n",
       "    }\n",
       "\n",
       "    .dataframe thead th {\n",
       "        text-align: right;\n",
       "    }\n",
       "</style>\n",
       "<table border=\"1\" class=\"dataframe\">\n",
       "  <thead>\n",
       "    <tr style=\"text-align: right;\">\n",
       "      <th></th>\n",
       "      <th>median_house_value</th>\n",
       "      <th>housing_median_age</th>\n",
       "      <th>total_rooms</th>\n",
       "      <th>total_bedrooms</th>\n",
       "      <th>households</th>\n",
       "      <th>median_income</th>\n",
       "      <th>near_ocean</th>\n",
       "      <th>latitude</th>\n",
       "      <th>longitude</th>\n",
       "    </tr>\n",
       "  </thead>\n",
       "  <tbody>\n",
       "    <tr>\n",
       "      <td>0</td>\n",
       "      <td>193734.11</td>\n",
       "      <td>NaN</td>\n",
       "      <td>2229.0</td>\n",
       "      <td>542.0</td>\n",
       "      <td>559.0</td>\n",
       "      <td>4.18</td>\n",
       "      <td>1</td>\n",
       "      <td>38.76</td>\n",
       "      <td>-124.85</td>\n",
       "    </tr>\n",
       "    <tr>\n",
       "      <td>1</td>\n",
       "      <td>293063.40</td>\n",
       "      <td>33.22</td>\n",
       "      <td>2111.0</td>\n",
       "      <td>356.0</td>\n",
       "      <td>364.0</td>\n",
       "      <td>5.35</td>\n",
       "      <td>0</td>\n",
       "      <td>32.32</td>\n",
       "      <td>-102.63</td>\n",
       "    </tr>\n",
       "    <tr>\n",
       "      <td>2</td>\n",
       "      <td>237055.75</td>\n",
       "      <td>19.66</td>\n",
       "      <td>3314.0</td>\n",
       "      <td>975.0</td>\n",
       "      <td>781.0</td>\n",
       "      <td>4.33</td>\n",
       "      <td>0</td>\n",
       "      <td>32.69</td>\n",
       "      <td>-117.07</td>\n",
       "    </tr>\n",
       "    <tr>\n",
       "      <td>3</td>\n",
       "      <td>373789.89</td>\n",
       "      <td>29.80</td>\n",
       "      <td>1810.0</td>\n",
       "      <td>230.0</td>\n",
       "      <td>296.0</td>\n",
       "      <td>6.03</td>\n",
       "      <td>1</td>\n",
       "      <td>NaN</td>\n",
       "      <td>NaN</td>\n",
       "    </tr>\n",
       "    <tr>\n",
       "      <td>4</td>\n",
       "      <td>59804.22</td>\n",
       "      <td>14.21</td>\n",
       "      <td>3021.0</td>\n",
       "      <td>840.0</td>\n",
       "      <td>775.0</td>\n",
       "      <td>1.81</td>\n",
       "      <td>0</td>\n",
       "      <td>36.46</td>\n",
       "      <td>-129.12</td>\n",
       "    </tr>\n",
       "  </tbody>\n",
       "</table>\n",
       "</div>"
      ],
      "text/plain": [
       "   median_house_value  housing_median_age  total_rooms  total_bedrooms  \\\n",
       "0           193734.11                 NaN       2229.0           542.0   \n",
       "1           293063.40               33.22       2111.0           356.0   \n",
       "2           237055.75               19.66       3314.0           975.0   \n",
       "3           373789.89               29.80       1810.0           230.0   \n",
       "4            59804.22               14.21       3021.0           840.0   \n",
       "\n",
       "   households  median_income  near_ocean  latitude  longitude  \n",
       "0       559.0           4.18           1     38.76    -124.85  \n",
       "1       364.0           5.35           0     32.32    -102.63  \n",
       "2       781.0           4.33           0     32.69    -117.07  \n",
       "3       296.0           6.03           1       NaN        NaN  \n",
       "4       775.0           1.81           0     36.46    -129.12  "
      ]
     },
     "execution_count": 12,
     "metadata": {},
     "output_type": "execute_result"
    }
   ],
   "source": [
    "df.head()"
   ]
  },
  {
   "cell_type": "code",
   "execution_count": 13,
   "metadata": {},
   "outputs": [
    {
     "data": {
      "text/html": [
       "<div>\n",
       "<style scoped>\n",
       "    .dataframe tbody tr th:only-of-type {\n",
       "        vertical-align: middle;\n",
       "    }\n",
       "\n",
       "    .dataframe tbody tr th {\n",
       "        vertical-align: top;\n",
       "    }\n",
       "\n",
       "    .dataframe thead th {\n",
       "        text-align: right;\n",
       "    }\n",
       "</style>\n",
       "<table border=\"1\" class=\"dataframe\">\n",
       "  <thead>\n",
       "    <tr style=\"text-align: right;\">\n",
       "      <th></th>\n",
       "      <th>median_house_value</th>\n",
       "      <th>housing_median_age</th>\n",
       "      <th>total_rooms</th>\n",
       "      <th>total_bedrooms</th>\n",
       "      <th>households</th>\n",
       "      <th>median_income</th>\n",
       "      <th>near_ocean</th>\n",
       "      <th>latitude</th>\n",
       "      <th>longitude</th>\n",
       "    </tr>\n",
       "  </thead>\n",
       "  <tbody>\n",
       "    <tr>\n",
       "      <td>count</td>\n",
       "      <td>10000.000000</td>\n",
       "      <td>9908.000000</td>\n",
       "      <td>10000.000000</td>\n",
       "      <td>9900.000000</td>\n",
       "      <td>10000.000000</td>\n",
       "      <td>10000.000000</td>\n",
       "      <td>10000.00000</td>\n",
       "      <td>8029.000000</td>\n",
       "      <td>8029.000000</td>\n",
       "    </tr>\n",
       "    <tr>\n",
       "      <td>mean</td>\n",
       "      <td>206235.094758</td>\n",
       "      <td>28.597311</td>\n",
       "      <td>2619.040600</td>\n",
       "      <td>536.740707</td>\n",
       "      <td>499.303200</td>\n",
       "      <td>3.869342</td>\n",
       "      <td>0.52480</td>\n",
       "      <td>35.584317</td>\n",
       "      <td>-119.570199</td>\n",
       "    </tr>\n",
       "    <tr>\n",
       "      <td>std</td>\n",
       "      <td>115715.318790</td>\n",
       "      <td>12.997030</td>\n",
       "      <td>2108.678306</td>\n",
       "      <td>410.428175</td>\n",
       "      <td>377.055102</td>\n",
       "      <td>1.923917</td>\n",
       "      <td>0.49941</td>\n",
       "      <td>4.145291</td>\n",
       "      <td>12.072141</td>\n",
       "    </tr>\n",
       "    <tr>\n",
       "      <td>min</td>\n",
       "      <td>14728.440000</td>\n",
       "      <td>1.020000</td>\n",
       "      <td>13.000000</td>\n",
       "      <td>3.000000</td>\n",
       "      <td>2.000000</td>\n",
       "      <td>0.490000</td>\n",
       "      <td>0.00000</td>\n",
       "      <td>20.970000</td>\n",
       "      <td>-160.910000</td>\n",
       "    </tr>\n",
       "    <tr>\n",
       "      <td>25%</td>\n",
       "      <td>120014.447500</td>\n",
       "      <td>18.200000</td>\n",
       "      <td>1440.000000</td>\n",
       "      <td>295.000000</td>\n",
       "      <td>279.000000</td>\n",
       "      <td>2.520000</td>\n",
       "      <td>0.00000</td>\n",
       "      <td>32.730000</td>\n",
       "      <td>-127.750000</td>\n",
       "    </tr>\n",
       "    <tr>\n",
       "      <td>50%</td>\n",
       "      <td>179266.105000</td>\n",
       "      <td>28.460000</td>\n",
       "      <td>2122.000000</td>\n",
       "      <td>433.000000</td>\n",
       "      <td>409.000000</td>\n",
       "      <td>3.500000</td>\n",
       "      <td>1.00000</td>\n",
       "      <td>35.420000</td>\n",
       "      <td>-119.520000</td>\n",
       "    </tr>\n",
       "    <tr>\n",
       "      <td>75%</td>\n",
       "      <td>264141.642500</td>\n",
       "      <td>37.642500</td>\n",
       "      <td>3160.000000</td>\n",
       "      <td>655.000000</td>\n",
       "      <td>607.000000</td>\n",
       "      <td>4.790000</td>\n",
       "      <td>1.00000</td>\n",
       "      <td>38.350000</td>\n",
       "      <td>-111.380000</td>\n",
       "    </tr>\n",
       "    <tr>\n",
       "      <td>max</td>\n",
       "      <td>644578.480000</td>\n",
       "      <td>69.040000</td>\n",
       "      <td>39232.000000</td>\n",
       "      <td>6458.000000</td>\n",
       "      <td>6562.000000</td>\n",
       "      <td>18.140000</td>\n",
       "      <td>1.00000</td>\n",
       "      <td>52.560000</td>\n",
       "      <td>-70.260000</td>\n",
       "    </tr>\n",
       "  </tbody>\n",
       "</table>\n",
       "</div>"
      ],
      "text/plain": [
       "       median_house_value  housing_median_age   total_rooms  total_bedrooms  \\\n",
       "count        10000.000000         9908.000000  10000.000000     9900.000000   \n",
       "mean        206235.094758           28.597311   2619.040600      536.740707   \n",
       "std         115715.318790           12.997030   2108.678306      410.428175   \n",
       "min          14728.440000            1.020000     13.000000        3.000000   \n",
       "25%         120014.447500           18.200000   1440.000000      295.000000   \n",
       "50%         179266.105000           28.460000   2122.000000      433.000000   \n",
       "75%         264141.642500           37.642500   3160.000000      655.000000   \n",
       "max         644578.480000           69.040000  39232.000000     6458.000000   \n",
       "\n",
       "         households  median_income   near_ocean     latitude    longitude  \n",
       "count  10000.000000   10000.000000  10000.00000  8029.000000  8029.000000  \n",
       "mean     499.303200       3.869342      0.52480    35.584317  -119.570199  \n",
       "std      377.055102       1.923917      0.49941     4.145291    12.072141  \n",
       "min        2.000000       0.490000      0.00000    20.970000  -160.910000  \n",
       "25%      279.000000       2.520000      0.00000    32.730000  -127.750000  \n",
       "50%      409.000000       3.500000      1.00000    35.420000  -119.520000  \n",
       "75%      607.000000       4.790000      1.00000    38.350000  -111.380000  \n",
       "max     6562.000000      18.140000      1.00000    52.560000   -70.260000  "
      ]
     },
     "execution_count": 13,
     "metadata": {},
     "output_type": "execute_result"
    }
   ],
   "source": [
    "df.describe()"
   ]
  },
  {
   "cell_type": "code",
   "execution_count": 14,
   "metadata": {},
   "outputs": [
    {
     "data": {
      "image/png": "[encoded data removed]",
      "text/plain": [
       "<Figure size 432x288 with 1 Axes>"
      ]
     },
     "metadata": {},
     "output_type": "display_data"
    }
   ],
   "source": [
    "plt.hist(df[\"median_house_value\"], bins=50, color=\"C1\")\n",
    "plt.show()"
   ]
  },
  {
   "cell_type": "markdown",
   "metadata": {},
   "source": [
    "## Data preparation"
   ]
  },
  {
   "cell_type": "code",
   "execution_count": 15,
   "metadata": {},
   "outputs": [],
   "source": [
    "df[\"rooms_per_household\"] = df[\"total_rooms\"] / df[\"households\"]\n",
    "df[\"bedrooms_per_household\"] = df[\"total_bedrooms\"] / df[\"households\"]"
   ]
  },
  {
   "cell_type": "code",
   "execution_count": 16,
   "metadata": {},
   "outputs": [],
   "source": [
    "df[\"const\"] = 1"
   ]
  },
  {
   "cell_type": "code",
   "execution_count": 17,
   "metadata": {},
   "outputs": [],
   "source": [
    "df.dropna(inplace=True)"
   ]
  },
  {
   "cell_type": "markdown",
   "metadata": {},
   "source": [
    "## Train a linear model"
   ]
  },
  {
   "cell_type": "code",
   "execution_count": 18,
   "metadata": {},
   "outputs": [],
   "source": [
    "target_var = \"median_house_value\"\n",
    "features = list(df.columns)\n",
    "features.remove(target_var)"
   ]
  },
  {
   "cell_type": "code",
   "execution_count": 19,
   "metadata": {},
   "outputs": [],
   "source": [
    "model = sm.GLM(df[target_var], df[features]).fit()"
   ]
  },
  {
   "cell_type": "markdown",
   "metadata": {},
   "source": [
    "## Evaluate model"
   ]
  },
  {
   "cell_type": "code",
   "execution_count": 20,
   "metadata": {},
   "outputs": [
    {
     "data": {
      "text/html": [
       "<table class=\"simpletable\">\n",
       "<caption>Generalized Linear Model Regression Results</caption>\n",
       "<tr>\n",
       "  <th>Dep. Variable:</th>   <td>median_house_value</td> <th>  No. Observations:  </th>   <td>  7876</td>   \n",
       "</tr>\n",
       "<tr>\n",
       "  <th>Model:</th>                   <td>GLM</td>        <th>  Df Residuals:      </th>   <td>  7865</td>   \n",
       "</tr>\n",
       "<tr>\n",
       "  <th>Model Family:</th>         <td>Gaussian</td>      <th>  Df Model:          </th>   <td>    10</td>   \n",
       "</tr>\n",
       "<tr>\n",
       "  <th>Link Function:</th>        <td>identity</td>      <th>  Scale:             </th> <td>6.5140e+09</td> \n",
       "</tr>\n",
       "<tr>\n",
       "  <th>Method:</th>                 <td>IRLS</td>        <th>  Log-Likelihood:    </th> <td>-1.0016e+05</td>\n",
       "</tr>\n",
       "<tr>\n",
       "  <th>Date:</th>             <td>Tue, 05 Nov 2019</td>  <th>  Deviance:          </th> <td>5.1233e+13</td> \n",
       "</tr>\n",
       "<tr>\n",
       "  <th>Time:</th>                 <td>17:44:40</td>      <th>  Pearson chi2:      </th>  <td>5.12e+13</td>  \n",
       "</tr>\n",
       "<tr>\n",
       "  <th>No. Iterations:</th>           <td>3</td>         <th>                     </th>      <td> </td>     \n",
       "</tr>\n",
       "<tr>\n",
       "  <th>Covariance Type:</th>      <td>nonrobust</td>     <th>                     </th>      <td> </td>     \n",
       "</tr>\n",
       "</table>\n",
       "<table class=\"simpletable\">\n",
       "<tr>\n",
       "             <td></td>               <th>coef</th>     <th>std err</th>      <th>z</th>      <th>P>|z|</th>  <th>[0.025</th>    <th>0.975]</th>  \n",
       "</tr>\n",
       "<tr>\n",
       "  <th>housing_median_age</th>     <td> 1449.0827</td> <td>   76.945</td> <td>   18.833</td> <td> 0.000</td> <td> 1298.273</td> <td> 1599.893</td>\n",
       "</tr>\n",
       "<tr>\n",
       "  <th>total_rooms</th>            <td>  -10.6133</td> <td>    1.583</td> <td>   -6.707</td> <td> 0.000</td> <td>  -13.715</td> <td>   -7.512</td>\n",
       "</tr>\n",
       "<tr>\n",
       "  <th>total_bedrooms</th>         <td>   66.4847</td> <td>   10.807</td> <td>    6.152</td> <td> 0.000</td> <td>   45.303</td> <td>   87.667</td>\n",
       "</tr>\n",
       "<tr>\n",
       "  <th>households</th>             <td>   16.3739</td> <td>    9.813</td> <td>    1.669</td> <td> 0.095</td> <td>   -2.860</td> <td>   35.607</td>\n",
       "</tr>\n",
       "<tr>\n",
       "  <th>median_income</th>          <td> 4.125e+04</td> <td>  618.191</td> <td>   66.734</td> <td> 0.000</td> <td>    4e+04</td> <td> 4.25e+04</td>\n",
       "</tr>\n",
       "<tr>\n",
       "  <th>near_ocean</th>             <td> 3.596e+04</td> <td> 1956.687</td> <td>   18.377</td> <td> 0.000</td> <td> 3.21e+04</td> <td> 3.98e+04</td>\n",
       "</tr>\n",
       "<tr>\n",
       "  <th>latitude</th>               <td> -316.8243</td> <td>  222.293</td> <td>   -1.425</td> <td> 0.154</td> <td> -752.511</td> <td>  118.862</td>\n",
       "</tr>\n",
       "<tr>\n",
       "  <th>longitude</th>              <td>  -71.3610</td> <td>   75.584</td> <td>   -0.944</td> <td> 0.345</td> <td> -219.504</td> <td>   76.782</td>\n",
       "</tr>\n",
       "<tr>\n",
       "  <th>rooms_per_household</th>    <td> -576.7304</td> <td> 1032.579</td> <td>   -0.559</td> <td> 0.576</td> <td>-2600.549</td> <td> 1447.088</td>\n",
       "</tr>\n",
       "<tr>\n",
       "  <th>bedrooms_per_household</th> <td> 7725.2923</td> <td> 5143.854</td> <td>    1.502</td> <td> 0.133</td> <td>-2356.477</td> <td> 1.78e+04</td>\n",
       "</tr>\n",
       "<tr>\n",
       "  <th>const</th>                  <td>-3.284e+04</td> <td> 1.25e+04</td> <td>   -2.621</td> <td> 0.009</td> <td>-5.74e+04</td> <td>-8280.830</td>\n",
       "</tr>\n",
       "</table>"
      ],
      "text/plain": [
       "<class 'statsmodels.iolib.summary.Summary'>\n",
       "\"\"\"\n",
       "                 Generalized Linear Model Regression Results                  \n",
       "==============================================================================\n",
       "Dep. Variable:     median_house_value   No. Observations:                 7876\n",
       "Model:                            GLM   Df Residuals:                     7865\n",
       "Model Family:                Gaussian   Df Model:                           10\n",
       "Link Function:               identity   Scale:                      6.5140e+09\n",
       "Method:                          IRLS   Log-Likelihood:            -1.0016e+05\n",
       "Date:                Tue, 05 Nov 2019   Deviance:                   5.1233e+13\n",
       "Time:                        17:44:40   Pearson chi2:                 5.12e+13\n",
       "No. Iterations:                     3                                         \n",
       "Covariance Type:            nonrobust                                         \n",
       "==========================================================================================\n",
       "                             coef    std err          z      P>|z|      [0.025      0.975]\n",
       "------------------------------------------------------------------------------------------\n",
       "housing_median_age      1449.0827     76.945     18.833      0.000    1298.273    1599.893\n",
       "total_rooms              -10.6133      1.583     -6.707      0.000     -13.715      -7.512\n",
       "total_bedrooms            66.4847     10.807      6.152      0.000      45.303      87.667\n",
       "households                16.3739      9.813      1.669      0.095      -2.860      35.607\n",
       "median_income           4.125e+04    618.191     66.734      0.000       4e+04    4.25e+04\n",
       "near_ocean              3.596e+04   1956.687     18.377      0.000    3.21e+04    3.98e+04\n",
       "latitude                -316.8243    222.293     -1.425      0.154    -752.511     118.862\n",
       "longitude                -71.3610     75.584     -0.944      0.345    -219.504      76.782\n",
       "rooms_per_household     -576.7304   1032.579     -0.559      0.576   -2600.549    1447.088\n",
       "bedrooms_per_household  7725.2923   5143.854      1.502      0.133   -2356.477    1.78e+04\n",
       "const                  -3.284e+04   1.25e+04     -2.621      0.009   -5.74e+04   -8280.830\n",
       "==========================================================================================\n",
       "\"\"\""
      ]
     },
     "execution_count": 20,
     "metadata": {},
     "output_type": "execute_result"
    }
   ],
   "source": [
    "model.summary()"
   ]
  },
  {
   "cell_type": "markdown",
   "metadata": {},
   "source": [
    "### Calculate Root Mean Square Error"
   ]
  },
  {
   "cell_type": "code",
   "execution_count": 21,
   "metadata": {},
   "outputs": [],
   "source": [
    "import math"
   ]
  },
  {
   "cell_type": "code",
   "execution_count": 22,
   "metadata": {},
   "outputs": [],
   "source": [
    "def rmse(x, y):\n",
    "    N = len(x)\n",
    "    errors = 0\n",
    "    \n",
    "    for i in range(N):\n",
    "        errors += (x[i] - y[i]) ** 2\n",
    "    \n",
    "    return math.sqrt(errors / N)"
   ]
  },
  {
   "cell_type": "code",
   "execution_count": 23,
   "metadata": {},
   "outputs": [
    {
     "data": {
      "text/plain": [
       "80653.0813702978"
      ]
     },
     "execution_count": 23,
     "metadata": {},
     "output_type": "execute_result"
    }
   ],
   "source": [
    "rmse(model.predict(), df[target_var].values)"
   ]
  },
  {
   "cell_type": "markdown",
   "metadata": {},
   "source": [
    "### Calculate Model Lift"
   ]
  },
  {
   "cell_type": "markdown",
   "metadata": {},
   "source": [
    "The lift statistic measures the power of discrimination of the model. Lift essentially measures the area between the cumulative percentage of actual and cumulative percentage of weight (random model). The lift ratio is then the ratio of lift when ordered by predicted to lift when ordered by actual.\n",
    "\n",
    "To calculate it, we first sort the data according to the target variable (actual median house value) in a descending order and calculate *lift* for each observation (row) as\n",
    "\n",
    "> lift  = 2 &times; (cm_pct_actual - cm_pct_weight) / total_weight\n",
    "\n",
    "where\n",
    "* cm_pct_actual is the cummulative percentage of total house value up to the given observation\n",
    "* cm_pct_weight is the cummulative percentage of total observation weights\n",
    "\n",
    "For simplicity, we give each observation in the dataset an equal weight of 1"
   ]
  },
  {
   "cell_type": "code",
   "execution_count": 24,
   "metadata": {},
   "outputs": [],
   "source": [
    "def calc_lift(values, weights):\n",
    "    cm_value = 0\n",
    "    cm_value_pct = 0\n",
    "    cm_weight = 0\n",
    "    cm_weight_pct = 0\n",
    "    \n",
    "    lift = 0\n",
    "    \n",
    "    for value,weight in zip(values, weights):\n",
    "        cm_value += value\n",
    "        cm_value_pct = cm_value / values.sum()\n",
    "        cm_weight += weight\n",
    "        cm_weight_pct = cm_weight / weights.sum()\n",
    "        \n",
    "        lift += 2 * (cm_value_pct - cm_weight_pct) / weights.sum()\n",
    "        \n",
    "    return lift"
   ]
  },
  {
   "cell_type": "code",
   "execution_count": 25,
   "metadata": {},
   "outputs": [
    {
     "data": {
      "text/plain": [
       "0.30345846888699096"
      ]
     },
     "execution_count": 25,
     "metadata": {},
     "output_type": "execute_result"
    }
   ],
   "source": [
    "calc_lift(df.sort_values(target_var, ascending=False)[target_var], np.ones(len(df)))"
   ]
  },
  {
   "cell_type": "markdown",
   "metadata": {},
   "source": [
    "Then we calculate lift when sorted by the predicted value"
   ]
  },
  {
   "cell_type": "code",
   "execution_count": 26,
   "metadata": {},
   "outputs": [],
   "source": [
    "df[\"predictions\"] = model.predict()"
   ]
  },
  {
   "cell_type": "code",
   "execution_count": 27,
   "metadata": {},
   "outputs": [
    {
     "data": {
      "text/plain": [
       "0.22171007243500312"
      ]
     },
     "execution_count": 27,
     "metadata": {},
     "output_type": "execute_result"
    }
   ],
   "source": [
    "calc_lift(df.sort_values(\"predictions\", ascending=False)[target_var], np.ones(len(df)))"
   ]
  }
 ],
 "metadata": {
  "kernelspec": {
   "display_name": "Python 3",
   "language": "python",
   "name": "python3"
  },
  "language_info": {
   "codemirror_mode": {
    "name": "ipython",
    "version": 3
   },
   "file_extension": ".py",
   "mimetype": "text/x-python",
   "name": "python",
   "nbconvert_exporter": "python",
   "pygments_lexer": "ipython3",
   "version": "3.6.9"
  }
 },
 "nbformat": 4,
 "nbformat_minor": 2
}
