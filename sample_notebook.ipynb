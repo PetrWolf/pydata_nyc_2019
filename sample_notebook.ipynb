{
 "cells": [
  {
   "cell_type": "markdown",
   "metadata": {},
   "source": [
    "# Sample notebook\n",
    "\n",
    "This notebook represents a sample model development process with many critical flaws and typical shortcommings.\n",
    "\n",
    "It was created for instructional purposed on how NOT to do things. Please DO NOT use for any real modeling!"
   ]
  },
  {
   "cell_type": "markdown",
   "metadata": {},
   "source": [
    "## Setup"
   ]
  },
  {
   "cell_type": "code",
   "execution_count": 1,
   "metadata": {},
   "outputs": [],
   "source": [
    "import os\n",
    "import pandas as pd\n",
    "import numpy as np\n",
    "import seaborn as sns\n",
    "import matplotlib.pyplot as plt\n",
    "import statsmodels.api as sm"
   ]
  },
  {
   "cell_type": "code",
   "execution_count": 2,
   "metadata": {},
   "outputs": [],
   "source": [
    "%matplotlib inline\n",
    "sns.set_style(\"darkgrid\")"
   ]
  },
  {
   "cell_type": "markdown",
   "metadata": {},
   "source": [
    "## Data loading"
   ]
  },
  {
   "cell_type": "code",
   "execution_count": 3,
   "metadata": {},
   "outputs": [],
   "source": [
    "# Uncomment on Michael's copmuter\n",
    "# df = pd.read_csv(\"/home/michael/data.csv\")\n",
    "# Download from http://some.link/that/does/not/work/anymore.csv\n",
    "df = pd.read_csv(\"data/housing.csv\")"
   ]
  },
  {
   "cell_type": "code",
   "execution_count": 4,
   "metadata": {},
   "outputs": [
    {
     "data": {
      "text/html": [
       "<div>\n",
       "<style scoped>\n",
       "    .dataframe tbody tr th:only-of-type {\n",
       "        vertical-align: middle;\n",
       "    }\n",
       "\n",
       "    .dataframe tbody tr th {\n",
       "        vertical-align: top;\n",
       "    }\n",
       "\n",
       "    .dataframe thead th {\n",
       "        text-align: right;\n",
       "    }\n",
       "</style>\n",
       "<table border=\"1\" class=\"dataframe\">\n",
       "  <thead>\n",
       "    <tr style=\"text-align: right;\">\n",
       "      <th></th>\n",
       "      <th>median_house_value</th>\n",
       "      <th>housing_median_age</th>\n",
       "      <th>total_rooms</th>\n",
       "      <th>total_bedrooms</th>\n",
       "      <th>households</th>\n",
       "      <th>median_income</th>\n",
       "      <th>location</th>\n",
       "      <th>near_ocean</th>\n",
       "    </tr>\n",
       "  </thead>\n",
       "  <tbody>\n",
       "    <tr>\n",
       "      <td>0</td>\n",
       "      <td>336,351.99</td>\n",
       "      <td>39.57</td>\n",
       "      <td>1804.0</td>\n",
       "      <td>383.0</td>\n",
       "      <td>381.0</td>\n",
       "      <td>4.45</td>\n",
       "      <td>33.78 N 111.4 W</td>\n",
       "      <td>Yes</td>\n",
       "    </tr>\n",
       "    <tr>\n",
       "      <td>1</td>\n",
       "      <td>533,034.41</td>\n",
       "      <td>36.17</td>\n",
       "      <td>2655.0</td>\n",
       "      <td>391.0</td>\n",
       "      <td>368.0</td>\n",
       "      <td>8.68</td>\n",
       "      <td>31.36 N 117.16 W</td>\n",
       "      <td>No</td>\n",
       "    </tr>\n",
       "    <tr>\n",
       "      <td>2</td>\n",
       "      <td>59,438.25</td>\n",
       "      <td>50.65</td>\n",
       "      <td>15.0</td>\n",
       "      <td>4.0</td>\n",
       "      <td>3.0</td>\n",
       "      <td>0.89</td>\n",
       "      <td>38.21 N 118.85 W</td>\n",
       "      <td>No</td>\n",
       "    </tr>\n",
       "    <tr>\n",
       "      <td>3</td>\n",
       "      <td>162,643.46</td>\n",
       "      <td>21.32</td>\n",
       "      <td>3418.0</td>\n",
       "      <td>606.0</td>\n",
       "      <td>569.0</td>\n",
       "      <td>4.55</td>\n",
       "      <td>31.43 N 112.63 W</td>\n",
       "      <td>Yes</td>\n",
       "    </tr>\n",
       "    <tr>\n",
       "      <td>4</td>\n",
       "      <td>280,015.39</td>\n",
       "      <td>10.93</td>\n",
       "      <td>9792.0</td>\n",
       "      <td>1759.0</td>\n",
       "      <td>2000.0</td>\n",
       "      <td>4.39</td>\n",
       "      <td>30.88 N 108.15 W</td>\n",
       "      <td>No</td>\n",
       "    </tr>\n",
       "    <tr>\n",
       "      <td>...</td>\n",
       "      <td>...</td>\n",
       "      <td>...</td>\n",
       "      <td>...</td>\n",
       "      <td>...</td>\n",
       "      <td>...</td>\n",
       "      <td>...</td>\n",
       "      <td>...</td>\n",
       "      <td>...</td>\n",
       "    </tr>\n",
       "    <tr>\n",
       "      <td>95</td>\n",
       "      <td>412,804.48</td>\n",
       "      <td>19.57</td>\n",
       "      <td>2129.0</td>\n",
       "      <td>371.0</td>\n",
       "      <td>406.0</td>\n",
       "      <td>10.29</td>\n",
       "      <td>36.15 N 116.51 W</td>\n",
       "      <td>Yes</td>\n",
       "    </tr>\n",
       "    <tr>\n",
       "      <td>96</td>\n",
       "      <td>151,976.85</td>\n",
       "      <td>34.52</td>\n",
       "      <td>1143.0</td>\n",
       "      <td>228.0</td>\n",
       "      <td>246.0</td>\n",
       "      <td>3.26</td>\n",
       "      <td>37.15 N 102.21 W</td>\n",
       "      <td>Yes</td>\n",
       "    </tr>\n",
       "    <tr>\n",
       "      <td>97</td>\n",
       "      <td>259,237.12</td>\n",
       "      <td>44.09</td>\n",
       "      <td>2921.0</td>\n",
       "      <td>613.0</td>\n",
       "      <td>611.0</td>\n",
       "      <td>3.56</td>\n",
       "      <td>40.13 N 125.18 W</td>\n",
       "      <td>Yes</td>\n",
       "    </tr>\n",
       "    <tr>\n",
       "      <td>98</td>\n",
       "      <td>125,401.82</td>\n",
       "      <td>12.69</td>\n",
       "      <td>1888.0</td>\n",
       "      <td>381.0</td>\n",
       "      <td>348.0</td>\n",
       "      <td>4.23</td>\n",
       "      <td>36.6 N 125.3 W</td>\n",
       "      <td>No</td>\n",
       "    </tr>\n",
       "    <tr>\n",
       "      <td>99</td>\n",
       "      <td>251,458.02</td>\n",
       "      <td>19.93</td>\n",
       "      <td>4206.0</td>\n",
       "      <td>1019.0</td>\n",
       "      <td>1251.0</td>\n",
       "      <td>2.63</td>\n",
       "      <td>34.54 N 145.13 W</td>\n",
       "      <td>Yes</td>\n",
       "    </tr>\n",
       "  </tbody>\n",
       "</table>\n",
       "<p>100 rows × 8 columns</p>\n",
       "</div>"
      ],
      "text/plain": [
       "   median_house_value housing_median_age  total_rooms  total_bedrooms  \\\n",
       "0          336,351.99              39.57       1804.0           383.0   \n",
       "1          533,034.41              36.17       2655.0           391.0   \n",
       "2           59,438.25              50.65         15.0             4.0   \n",
       "3          162,643.46              21.32       3418.0           606.0   \n",
       "4          280,015.39              10.93       9792.0          1759.0   \n",
       "..                ...                ...          ...             ...   \n",
       "95         412,804.48              19.57       2129.0           371.0   \n",
       "96         151,976.85              34.52       1143.0           228.0   \n",
       "97         259,237.12              44.09       2921.0           613.0   \n",
       "98         125,401.82              12.69       1888.0           381.0   \n",
       "99         251,458.02              19.93       4206.0          1019.0   \n",
       "\n",
       "    households  median_income          location near_ocean  \n",
       "0        381.0           4.45   33.78 N 111.4 W        Yes  \n",
       "1        368.0           8.68  31.36 N 117.16 W         No  \n",
       "2          3.0           0.89  38.21 N 118.85 W         No  \n",
       "3        569.0           4.55  31.43 N 112.63 W        Yes  \n",
       "4       2000.0           4.39  30.88 N 108.15 W         No  \n",
       "..         ...            ...               ...        ...  \n",
       "95       406.0          10.29  36.15 N 116.51 W        Yes  \n",
       "96       246.0           3.26  37.15 N 102.21 W        Yes  \n",
       "97       611.0           3.56  40.13 N 125.18 W        Yes  \n",
       "98       348.0           4.23    36.6 N 125.3 W         No  \n",
       "99      1251.0           2.63  34.54 N 145.13 W        Yes  \n",
       "\n",
       "[100 rows x 8 columns]"
      ]
     },
     "execution_count": 4,
     "metadata": {},
     "output_type": "execute_result"
    }
   ],
   "source": [
    "df"
   ]
  },
  {
   "cell_type": "code",
   "execution_count": 5,
   "metadata": {},
   "outputs": [],
   "source": [
    "# change some columns to numeric\n",
    "df.median_house_value = df.median_house_value.replace({',': ''}, regex=True).apply(pd.to_numeric, 1)\n",
    "df.median_house_value = df.median_house_value.astype(float)"
   ]
  },
  {
   "cell_type": "code",
   "execution_count": 6,
   "metadata": {},
   "outputs": [],
   "source": [
    "df[\"housing_median_age\"] = pd.to_numeric(df[\"housing_median_age\"], errors=\"coerce\")"
   ]
  },
  {
   "cell_type": "code",
   "execution_count": 7,
   "metadata": {},
   "outputs": [
    {
     "data": {
      "text/html": [
       "<div>\n",
       "<style scoped>\n",
       "    .dataframe tbody tr th:only-of-type {\n",
       "        vertical-align: middle;\n",
       "    }\n",
       "\n",
       "    .dataframe tbody tr th {\n",
       "        vertical-align: top;\n",
       "    }\n",
       "\n",
       "    .dataframe thead th {\n",
       "        text-align: right;\n",
       "    }\n",
       "</style>\n",
       "<table border=\"1\" class=\"dataframe\">\n",
       "  <thead>\n",
       "    <tr style=\"text-align: right;\">\n",
       "      <th></th>\n",
       "      <th>median_house_value</th>\n",
       "      <th>housing_median_age</th>\n",
       "      <th>total_rooms</th>\n",
       "      <th>total_bedrooms</th>\n",
       "      <th>households</th>\n",
       "      <th>median_income</th>\n",
       "      <th>location</th>\n",
       "      <th>near_ocean</th>\n",
       "    </tr>\n",
       "  </thead>\n",
       "  <tbody>\n",
       "    <tr>\n",
       "      <td>0</td>\n",
       "      <td>336351.99</td>\n",
       "      <td>39.57</td>\n",
       "      <td>1804.0</td>\n",
       "      <td>383.0</td>\n",
       "      <td>381.0</td>\n",
       "      <td>4.45</td>\n",
       "      <td>33.78 N 111.4 W</td>\n",
       "      <td>Yes</td>\n",
       "    </tr>\n",
       "    <tr>\n",
       "      <td>1</td>\n",
       "      <td>533034.41</td>\n",
       "      <td>36.17</td>\n",
       "      <td>2655.0</td>\n",
       "      <td>391.0</td>\n",
       "      <td>368.0</td>\n",
       "      <td>8.68</td>\n",
       "      <td>31.36 N 117.16 W</td>\n",
       "      <td>No</td>\n",
       "    </tr>\n",
       "    <tr>\n",
       "      <td>2</td>\n",
       "      <td>59438.25</td>\n",
       "      <td>50.65</td>\n",
       "      <td>15.0</td>\n",
       "      <td>4.0</td>\n",
       "      <td>3.0</td>\n",
       "      <td>0.89</td>\n",
       "      <td>38.21 N 118.85 W</td>\n",
       "      <td>No</td>\n",
       "    </tr>\n",
       "    <tr>\n",
       "      <td>3</td>\n",
       "      <td>162643.46</td>\n",
       "      <td>21.32</td>\n",
       "      <td>3418.0</td>\n",
       "      <td>606.0</td>\n",
       "      <td>569.0</td>\n",
       "      <td>4.55</td>\n",
       "      <td>31.43 N 112.63 W</td>\n",
       "      <td>Yes</td>\n",
       "    </tr>\n",
       "    <tr>\n",
       "      <td>4</td>\n",
       "      <td>280015.39</td>\n",
       "      <td>10.93</td>\n",
       "      <td>9792.0</td>\n",
       "      <td>1759.0</td>\n",
       "      <td>2000.0</td>\n",
       "      <td>4.39</td>\n",
       "      <td>30.88 N 108.15 W</td>\n",
       "      <td>No</td>\n",
       "    </tr>\n",
       "  </tbody>\n",
       "</table>\n",
       "</div>"
      ],
      "text/plain": [
       "   median_house_value  housing_median_age  total_rooms  total_bedrooms  \\\n",
       "0           336351.99               39.57       1804.0           383.0   \n",
       "1           533034.41               36.17       2655.0           391.0   \n",
       "2            59438.25               50.65         15.0             4.0   \n",
       "3           162643.46               21.32       3418.0           606.0   \n",
       "4           280015.39               10.93       9792.0          1759.0   \n",
       "\n",
       "   households  median_income          location near_ocean  \n",
       "0       381.0           4.45   33.78 N 111.4 W        Yes  \n",
       "1       368.0           8.68  31.36 N 117.16 W         No  \n",
       "2         3.0           0.89  38.21 N 118.85 W         No  \n",
       "3       569.0           4.55  31.43 N 112.63 W        Yes  \n",
       "4      2000.0           4.39  30.88 N 108.15 W         No  "
      ]
     },
     "execution_count": 7,
     "metadata": {},
     "output_type": "execute_result"
    }
   ],
   "source": [
    "df.head()"
   ]
  },
  {
   "cell_type": "markdown",
   "metadata": {},
   "source": [
    "### Parse the \"location\" column into \"latitude\" and \"longitude\"\n",
    "\n",
    "\"34.56 N 123.45 W\" -> 34.56, -123.45 "
   ]
  },
  {
   "cell_type": "code",
   "execution_count": 8,
   "metadata": {},
   "outputs": [],
   "source": [
    "df = df.join(\n",
    "    df[\"location\"].str.extract(\"([1-9][0-9]{0,2}\\.[0-9]{2}) [NS] ([1-9][0-9]{0,2}\\.[0-9]{2}) W\").rename(\n",
    "        columns={0: \"latitude\", 1: \"longitude\"}).astype(float)\n",
    ")\n",
    "df[\"longitude\"] *= -1"
   ]
  },
  {
   "cell_type": "code",
   "execution_count": 9,
   "metadata": {},
   "outputs": [],
   "source": [
    "df.drop(columns=[\"location\"], inplace=True)"
   ]
  },
  {
   "cell_type": "code",
   "execution_count": 10,
   "metadata": {},
   "outputs": [
    {
     "data": {
      "text/html": [
       "<div>\n",
       "<style scoped>\n",
       "    .dataframe tbody tr th:only-of-type {\n",
       "        vertical-align: middle;\n",
       "    }\n",
       "\n",
       "    .dataframe tbody tr th {\n",
       "        vertical-align: top;\n",
       "    }\n",
       "\n",
       "    .dataframe thead th {\n",
       "        text-align: right;\n",
       "    }\n",
       "</style>\n",
       "<table border=\"1\" class=\"dataframe\">\n",
       "  <thead>\n",
       "    <tr style=\"text-align: right;\">\n",
       "      <th></th>\n",
       "      <th>median_house_value</th>\n",
       "      <th>housing_median_age</th>\n",
       "      <th>total_rooms</th>\n",
       "      <th>total_bedrooms</th>\n",
       "      <th>households</th>\n",
       "      <th>median_income</th>\n",
       "      <th>near_ocean</th>\n",
       "      <th>latitude</th>\n",
       "      <th>longitude</th>\n",
       "    </tr>\n",
       "  </thead>\n",
       "  <tbody>\n",
       "    <tr>\n",
       "      <td>0</td>\n",
       "      <td>336351.99</td>\n",
       "      <td>39.57</td>\n",
       "      <td>1804.0</td>\n",
       "      <td>383.0</td>\n",
       "      <td>381.0</td>\n",
       "      <td>4.45</td>\n",
       "      <td>Yes</td>\n",
       "      <td>NaN</td>\n",
       "      <td>NaN</td>\n",
       "    </tr>\n",
       "    <tr>\n",
       "      <td>1</td>\n",
       "      <td>533034.41</td>\n",
       "      <td>36.17</td>\n",
       "      <td>2655.0</td>\n",
       "      <td>391.0</td>\n",
       "      <td>368.0</td>\n",
       "      <td>8.68</td>\n",
       "      <td>No</td>\n",
       "      <td>31.36</td>\n",
       "      <td>-117.16</td>\n",
       "    </tr>\n",
       "    <tr>\n",
       "      <td>2</td>\n",
       "      <td>59438.25</td>\n",
       "      <td>50.65</td>\n",
       "      <td>15.0</td>\n",
       "      <td>4.0</td>\n",
       "      <td>3.0</td>\n",
       "      <td>0.89</td>\n",
       "      <td>No</td>\n",
       "      <td>38.21</td>\n",
       "      <td>-118.85</td>\n",
       "    </tr>\n",
       "    <tr>\n",
       "      <td>3</td>\n",
       "      <td>162643.46</td>\n",
       "      <td>21.32</td>\n",
       "      <td>3418.0</td>\n",
       "      <td>606.0</td>\n",
       "      <td>569.0</td>\n",
       "      <td>4.55</td>\n",
       "      <td>Yes</td>\n",
       "      <td>31.43</td>\n",
       "      <td>-112.63</td>\n",
       "    </tr>\n",
       "    <tr>\n",
       "      <td>4</td>\n",
       "      <td>280015.39</td>\n",
       "      <td>10.93</td>\n",
       "      <td>9792.0</td>\n",
       "      <td>1759.0</td>\n",
       "      <td>2000.0</td>\n",
       "      <td>4.39</td>\n",
       "      <td>No</td>\n",
       "      <td>30.88</td>\n",
       "      <td>-108.15</td>\n",
       "    </tr>\n",
       "  </tbody>\n",
       "</table>\n",
       "</div>"
      ],
      "text/plain": [
       "   median_house_value  housing_median_age  total_rooms  total_bedrooms  \\\n",
       "0           336351.99               39.57       1804.0           383.0   \n",
       "1           533034.41               36.17       2655.0           391.0   \n",
       "2            59438.25               50.65         15.0             4.0   \n",
       "3           162643.46               21.32       3418.0           606.0   \n",
       "4           280015.39               10.93       9792.0          1759.0   \n",
       "\n",
       "   households  median_income near_ocean  latitude  longitude  \n",
       "0       381.0           4.45        Yes       NaN        NaN  \n",
       "1       368.0           8.68         No     31.36    -117.16  \n",
       "2         3.0           0.89         No     38.21    -118.85  \n",
       "3       569.0           4.55        Yes     31.43    -112.63  \n",
       "4      2000.0           4.39         No     30.88    -108.15  "
      ]
     },
     "execution_count": 10,
     "metadata": {},
     "output_type": "execute_result"
    }
   ],
   "source": [
    "df.head()"
   ]
  },
  {
   "cell_type": "markdown",
   "metadata": {},
   "source": [
    "### Convert \"near_ocean\" to `bool`"
   ]
  },
  {
   "cell_type": "code",
   "execution_count": 11,
   "metadata": {},
   "outputs": [],
   "source": [
    "df[\"near_ocean\"] = df[\"near_ocean\"].apply(lambda near_ocean: 1 if near_ocean == \"Yes\" else 0)"
   ]
  },
  {
   "cell_type": "markdown",
   "metadata": {},
   "source": [
    "## Data review"
   ]
  },
  {
   "cell_type": "code",
   "execution_count": 12,
   "metadata": {},
   "outputs": [
    {
     "data": {
      "text/html": [
       "<div>\n",
       "<style scoped>\n",
       "    .dataframe tbody tr th:only-of-type {\n",
       "        vertical-align: middle;\n",
       "    }\n",
       "\n",
       "    .dataframe tbody tr th {\n",
       "        vertical-align: top;\n",
       "    }\n",
       "\n",
       "    .dataframe thead th {\n",
       "        text-align: right;\n",
       "    }\n",
       "</style>\n",
       "<table border=\"1\" class=\"dataframe\">\n",
       "  <thead>\n",
       "    <tr style=\"text-align: right;\">\n",
       "      <th></th>\n",
       "      <th>median_house_value</th>\n",
       "      <th>housing_median_age</th>\n",
       "      <th>total_rooms</th>\n",
       "      <th>total_bedrooms</th>\n",
       "      <th>households</th>\n",
       "      <th>median_income</th>\n",
       "      <th>near_ocean</th>\n",
       "      <th>latitude</th>\n",
       "      <th>longitude</th>\n",
       "    </tr>\n",
       "  </thead>\n",
       "  <tbody>\n",
       "    <tr>\n",
       "      <td>0</td>\n",
       "      <td>336351.99</td>\n",
       "      <td>39.57</td>\n",
       "      <td>1804.0</td>\n",
       "      <td>383.0</td>\n",
       "      <td>381.0</td>\n",
       "      <td>4.45</td>\n",
       "      <td>1</td>\n",
       "      <td>NaN</td>\n",
       "      <td>NaN</td>\n",
       "    </tr>\n",
       "    <tr>\n",
       "      <td>1</td>\n",
       "      <td>533034.41</td>\n",
       "      <td>36.17</td>\n",
       "      <td>2655.0</td>\n",
       "      <td>391.0</td>\n",
       "      <td>368.0</td>\n",
       "      <td>8.68</td>\n",
       "      <td>0</td>\n",
       "      <td>31.36</td>\n",
       "      <td>-117.16</td>\n",
       "    </tr>\n",
       "    <tr>\n",
       "      <td>2</td>\n",
       "      <td>59438.25</td>\n",
       "      <td>50.65</td>\n",
       "      <td>15.0</td>\n",
       "      <td>4.0</td>\n",
       "      <td>3.0</td>\n",
       "      <td>0.89</td>\n",
       "      <td>0</td>\n",
       "      <td>38.21</td>\n",
       "      <td>-118.85</td>\n",
       "    </tr>\n",
       "    <tr>\n",
       "      <td>3</td>\n",
       "      <td>162643.46</td>\n",
       "      <td>21.32</td>\n",
       "      <td>3418.0</td>\n",
       "      <td>606.0</td>\n",
       "      <td>569.0</td>\n",
       "      <td>4.55</td>\n",
       "      <td>1</td>\n",
       "      <td>31.43</td>\n",
       "      <td>-112.63</td>\n",
       "    </tr>\n",
       "    <tr>\n",
       "      <td>4</td>\n",
       "      <td>280015.39</td>\n",
       "      <td>10.93</td>\n",
       "      <td>9792.0</td>\n",
       "      <td>1759.0</td>\n",
       "      <td>2000.0</td>\n",
       "      <td>4.39</td>\n",
       "      <td>0</td>\n",
       "      <td>30.88</td>\n",
       "      <td>-108.15</td>\n",
       "    </tr>\n",
       "  </tbody>\n",
       "</table>\n",
       "</div>"
      ],
      "text/plain": [
       "   median_house_value  housing_median_age  total_rooms  total_bedrooms  \\\n",
       "0           336351.99               39.57       1804.0           383.0   \n",
       "1           533034.41               36.17       2655.0           391.0   \n",
       "2            59438.25               50.65         15.0             4.0   \n",
       "3           162643.46               21.32       3418.0           606.0   \n",
       "4           280015.39               10.93       9792.0          1759.0   \n",
       "\n",
       "   households  median_income  near_ocean  latitude  longitude  \n",
       "0       381.0           4.45           1       NaN        NaN  \n",
       "1       368.0           8.68           0     31.36    -117.16  \n",
       "2         3.0           0.89           0     38.21    -118.85  \n",
       "3       569.0           4.55           1     31.43    -112.63  \n",
       "4      2000.0           4.39           0     30.88    -108.15  "
      ]
     },
     "execution_count": 12,
     "metadata": {},
     "output_type": "execute_result"
    }
   ],
   "source": [
    "df.head()"
   ]
  },
  {
   "cell_type": "code",
   "execution_count": 13,
   "metadata": {},
   "outputs": [
    {
     "data": {
      "text/html": [
       "<div>\n",
       "<style scoped>\n",
       "    .dataframe tbody tr th:only-of-type {\n",
       "        vertical-align: middle;\n",
       "    }\n",
       "\n",
       "    .dataframe tbody tr th {\n",
       "        vertical-align: top;\n",
       "    }\n",
       "\n",
       "    .dataframe thead th {\n",
       "        text-align: right;\n",
       "    }\n",
       "</style>\n",
       "<table border=\"1\" class=\"dataframe\">\n",
       "  <thead>\n",
       "    <tr style=\"text-align: right;\">\n",
       "      <th></th>\n",
       "      <th>median_house_value</th>\n",
       "      <th>housing_median_age</th>\n",
       "      <th>total_rooms</th>\n",
       "      <th>total_bedrooms</th>\n",
       "      <th>households</th>\n",
       "      <th>median_income</th>\n",
       "      <th>near_ocean</th>\n",
       "      <th>latitude</th>\n",
       "      <th>longitude</th>\n",
       "    </tr>\n",
       "  </thead>\n",
       "  <tbody>\n",
       "    <tr>\n",
       "      <td>count</td>\n",
       "      <td>100.000000</td>\n",
       "      <td>92.000000</td>\n",
       "      <td>100.000000</td>\n",
       "      <td>100.000000</td>\n",
       "      <td>100.000000</td>\n",
       "      <td>100.000000</td>\n",
       "      <td>100.000000</td>\n",
       "      <td>79.000000</td>\n",
       "      <td>79.000000</td>\n",
       "    </tr>\n",
       "    <tr>\n",
       "      <td>mean</td>\n",
       "      <td>212169.320700</td>\n",
       "      <td>28.732065</td>\n",
       "      <td>2540.030000</td>\n",
       "      <td>507.080000</td>\n",
       "      <td>477.640000</td>\n",
       "      <td>3.716200</td>\n",
       "      <td>0.530000</td>\n",
       "      <td>35.080253</td>\n",
       "      <td>-119.234937</td>\n",
       "    </tr>\n",
       "    <tr>\n",
       "      <td>std</td>\n",
       "      <td>125622.095769</td>\n",
       "      <td>12.266397</td>\n",
       "      <td>2077.111643</td>\n",
       "      <td>361.450185</td>\n",
       "      <td>344.892796</td>\n",
       "      <td>1.860173</td>\n",
       "      <td>0.501614</td>\n",
       "      <td>3.929425</td>\n",
       "      <td>10.992996</td>\n",
       "    </tr>\n",
       "    <tr>\n",
       "      <td>min</td>\n",
       "      <td>50758.460000</td>\n",
       "      <td>3.430000</td>\n",
       "      <td>15.000000</td>\n",
       "      <td>4.000000</td>\n",
       "      <td>3.000000</td>\n",
       "      <td>0.780000</td>\n",
       "      <td>0.000000</td>\n",
       "      <td>26.390000</td>\n",
       "      <td>-145.270000</td>\n",
       "    </tr>\n",
       "    <tr>\n",
       "      <td>25%</td>\n",
       "      <td>114505.597500</td>\n",
       "      <td>19.450000</td>\n",
       "      <td>1546.750000</td>\n",
       "      <td>308.500000</td>\n",
       "      <td>292.500000</td>\n",
       "      <td>2.695000</td>\n",
       "      <td>0.000000</td>\n",
       "      <td>32.625000</td>\n",
       "      <td>-126.670000</td>\n",
       "    </tr>\n",
       "    <tr>\n",
       "      <td>50%</td>\n",
       "      <td>179879.840000</td>\n",
       "      <td>30.380000</td>\n",
       "      <td>1995.000000</td>\n",
       "      <td>427.500000</td>\n",
       "      <td>374.000000</td>\n",
       "      <td>3.470000</td>\n",
       "      <td>1.000000</td>\n",
       "      <td>34.780000</td>\n",
       "      <td>-118.050000</td>\n",
       "    </tr>\n",
       "    <tr>\n",
       "      <td>75%</td>\n",
       "      <td>281718.847500</td>\n",
       "      <td>36.772500</td>\n",
       "      <td>3021.750000</td>\n",
       "      <td>628.000000</td>\n",
       "      <td>593.500000</td>\n",
       "      <td>4.375000</td>\n",
       "      <td>1.000000</td>\n",
       "      <td>37.680000</td>\n",
       "      <td>-112.595000</td>\n",
       "    </tr>\n",
       "    <tr>\n",
       "      <td>max</td>\n",
       "      <td>587083.300000</td>\n",
       "      <td>57.640000</td>\n",
       "      <td>13434.000000</td>\n",
       "      <td>2048.000000</td>\n",
       "      <td>2000.000000</td>\n",
       "      <td>10.290000</td>\n",
       "      <td>1.000000</td>\n",
       "      <td>47.150000</td>\n",
       "      <td>-97.380000</td>\n",
       "    </tr>\n",
       "  </tbody>\n",
       "</table>\n",
       "</div>"
      ],
      "text/plain": [
       "       median_house_value  housing_median_age   total_rooms  total_bedrooms  \\\n",
       "count          100.000000           92.000000    100.000000      100.000000   \n",
       "mean        212169.320700           28.732065   2540.030000      507.080000   \n",
       "std         125622.095769           12.266397   2077.111643      361.450185   \n",
       "min          50758.460000            3.430000     15.000000        4.000000   \n",
       "25%         114505.597500           19.450000   1546.750000      308.500000   \n",
       "50%         179879.840000           30.380000   1995.000000      427.500000   \n",
       "75%         281718.847500           36.772500   3021.750000      628.000000   \n",
       "max         587083.300000           57.640000  13434.000000     2048.000000   \n",
       "\n",
       "        households  median_income  near_ocean   latitude   longitude  \n",
       "count   100.000000     100.000000  100.000000  79.000000   79.000000  \n",
       "mean    477.640000       3.716200    0.530000  35.080253 -119.234937  \n",
       "std     344.892796       1.860173    0.501614   3.929425   10.992996  \n",
       "min       3.000000       0.780000    0.000000  26.390000 -145.270000  \n",
       "25%     292.500000       2.695000    0.000000  32.625000 -126.670000  \n",
       "50%     374.000000       3.470000    1.000000  34.780000 -118.050000  \n",
       "75%     593.500000       4.375000    1.000000  37.680000 -112.595000  \n",
       "max    2000.000000      10.290000    1.000000  47.150000  -97.380000  "
      ]
     },
     "execution_count": 13,
     "metadata": {},
     "output_type": "execute_result"
    }
   ],
   "source": [
    "df.describe()"
   ]
  },
  {
   "cell_type": "code",
   "execution_count": 14,
   "metadata": {},
   "outputs": [
    {
     "data": {
      "image/png": "[encoded data removed]",
      "text/plain": [
       "<Figure size 432x288 with 1 Axes>"
      ]
     },
     "metadata": {},
     "output_type": "display_data"
    }
   ],
   "source": [
    "plt.hist(df[\"median_house_value\"], bins=50, color=\"C1\")\n",
    "plt.show()"
   ]
  },
  {
   "cell_type": "markdown",
   "metadata": {},
   "source": [
    "## Data preparation"
   ]
  },
  {
   "cell_type": "code",
   "execution_count": 15,
   "metadata": {},
   "outputs": [],
   "source": [
    "df[\"rooms_per_household\"] = df[\"total_rooms\"] / df[\"households\"]\n",
    "df[\"bedrooms_per_household\"] = df[\"total_bedrooms\"] / df[\"households\"]"
   ]
  },
  {
   "cell_type": "code",
   "execution_count": 16,
   "metadata": {},
   "outputs": [],
   "source": [
    "df[\"const\"] = 1"
   ]
  },
  {
   "cell_type": "code",
   "execution_count": 17,
   "metadata": {},
   "outputs": [],
   "source": [
    "df.dropna(inplace=True)"
   ]
  },
  {
   "cell_type": "markdown",
   "metadata": {},
   "source": [
    "## Train a linear model"
   ]
  },
  {
   "cell_type": "code",
   "execution_count": 18,
   "metadata": {},
   "outputs": [],
   "source": [
    "target_var = \"median_house_value\"\n",
    "features = list(df.columns)\n",
    "features.remove(target_var)"
   ]
  },
  {
   "cell_type": "code",
   "execution_count": 19,
   "metadata": {},
   "outputs": [],
   "source": [
    "model = sm.GLM(df[target_var], df[features]).fit()"
   ]
  },
  {
   "cell_type": "markdown",
   "metadata": {},
   "source": [
    "## Evaluate model"
   ]
  },
  {
   "cell_type": "code",
   "execution_count": 20,
   "metadata": {},
   "outputs": [
    {
     "data": {
      "text/html": [
       "<table class=\"simpletable\">\n",
       "<caption>Generalized Linear Model Regression Results</caption>\n",
       "<tr>\n",
       "  <th>Dep. Variable:</th>   <td>median_house_value</td> <th>  No. Observations:  </th>   <td>    72</td>  \n",
       "</tr>\n",
       "<tr>\n",
       "  <th>Model:</th>                   <td>GLM</td>        <th>  Df Residuals:      </th>   <td>    61</td>  \n",
       "</tr>\n",
       "<tr>\n",
       "  <th>Model Family:</th>         <td>Gaussian</td>      <th>  Df Model:          </th>   <td>    10</td>  \n",
       "</tr>\n",
       "<tr>\n",
       "  <th>Link Function:</th>        <td>identity</td>      <th>  Scale:             </th> <td>9.4026e+09</td>\n",
       "</tr>\n",
       "<tr>\n",
       "  <th>Method:</th>                 <td>IRLS</td>        <th>  Log-Likelihood:    </th>  <td> -922.91</td> \n",
       "</tr>\n",
       "<tr>\n",
       "  <th>Date:</th>             <td>Tue, 05 Nov 2019</td>  <th>  Deviance:          </th> <td>5.7356e+11</td>\n",
       "</tr>\n",
       "<tr>\n",
       "  <th>Time:</th>                 <td>00:16:53</td>      <th>  Pearson chi2:      </th>  <td>5.74e+11</td> \n",
       "</tr>\n",
       "<tr>\n",
       "  <th>No. Iterations:</th>           <td>3</td>         <th>                     </th>      <td> </td>    \n",
       "</tr>\n",
       "<tr>\n",
       "  <th>Covariance Type:</th>      <td>nonrobust</td>     <th>                     </th>      <td> </td>    \n",
       "</tr>\n",
       "</table>\n",
       "<table class=\"simpletable\">\n",
       "<tr>\n",
       "             <td></td>               <th>coef</th>     <th>std err</th>      <th>z</th>      <th>P>|z|</th>  <th>[0.025</th>    <th>0.975]</th>  \n",
       "</tr>\n",
       "<tr>\n",
       "  <th>housing_median_age</th>     <td>   14.5743</td> <td> 1035.934</td> <td>    0.014</td> <td> 0.989</td> <td>-2015.818</td> <td> 2044.967</td>\n",
       "</tr>\n",
       "<tr>\n",
       "  <th>total_rooms</th>            <td>   19.9588</td> <td>   28.481</td> <td>    0.701</td> <td> 0.483</td> <td>  -35.863</td> <td>   75.780</td>\n",
       "</tr>\n",
       "<tr>\n",
       "  <th>total_bedrooms</th>         <td> -179.7729</td> <td>  171.109</td> <td>   -1.051</td> <td> 0.293</td> <td> -515.140</td> <td>  155.594</td>\n",
       "</tr>\n",
       "<tr>\n",
       "  <th>households</th>             <td>   71.7717</td> <td>  180.706</td> <td>    0.397</td> <td> 0.691</td> <td> -282.406</td> <td>  425.950</td>\n",
       "</tr>\n",
       "<tr>\n",
       "  <th>median_income</th>          <td> 4.447e+04</td> <td> 7976.135</td> <td>    5.575</td> <td> 0.000</td> <td> 2.88e+04</td> <td> 6.01e+04</td>\n",
       "</tr>\n",
       "<tr>\n",
       "  <th>near_ocean</th>             <td> 7.043e+04</td> <td> 2.55e+04</td> <td>    2.766</td> <td> 0.006</td> <td> 2.05e+04</td> <td>  1.2e+05</td>\n",
       "</tr>\n",
       "<tr>\n",
       "  <th>latitude</th>               <td>  673.0798</td> <td> 3007.061</td> <td>    0.224</td> <td> 0.823</td> <td>-5220.652</td> <td> 6566.812</td>\n",
       "</tr>\n",
       "<tr>\n",
       "  <th>longitude</th>              <td>   -5.2859</td> <td> 1099.064</td> <td>   -0.005</td> <td> 0.996</td> <td>-2159.412</td> <td> 2148.841</td>\n",
       "</tr>\n",
       "<tr>\n",
       "  <th>rooms_per_household</th>    <td>-2.669e+04</td> <td> 1.93e+04</td> <td>   -1.380</td> <td> 0.168</td> <td>-6.46e+04</td> <td> 1.12e+04</td>\n",
       "</tr>\n",
       "<tr>\n",
       "  <th>bedrooms_per_household</th> <td> 1.394e+05</td> <td> 1.18e+05</td> <td>    1.178</td> <td> 0.239</td> <td>-9.25e+04</td> <td> 3.71e+05</td>\n",
       "</tr>\n",
       "<tr>\n",
       "  <th>const</th>                  <td>-1.623e+04</td> <td> 2.23e+05</td> <td>   -0.073</td> <td> 0.942</td> <td>-4.52e+05</td> <td>  4.2e+05</td>\n",
       "</tr>\n",
       "</table>"
      ],
      "text/plain": [
       "<class 'statsmodels.iolib.summary.Summary'>\n",
       "\"\"\"\n",
       "                 Generalized Linear Model Regression Results                  \n",
       "==============================================================================\n",
       "Dep. Variable:     median_house_value   No. Observations:                   72\n",
       "Model:                            GLM   Df Residuals:                       61\n",
       "Model Family:                Gaussian   Df Model:                           10\n",
       "Link Function:               identity   Scale:                      9.4026e+09\n",
       "Method:                          IRLS   Log-Likelihood:                -922.91\n",
       "Date:                Tue, 05 Nov 2019   Deviance:                   5.7356e+11\n",
       "Time:                        00:16:53   Pearson chi2:                 5.74e+11\n",
       "No. Iterations:                     3                                         \n",
       "Covariance Type:            nonrobust                                         \n",
       "==========================================================================================\n",
       "                             coef    std err          z      P>|z|      [0.025      0.975]\n",
       "------------------------------------------------------------------------------------------\n",
       "housing_median_age        14.5743   1035.934      0.014      0.989   -2015.818    2044.967\n",
       "total_rooms               19.9588     28.481      0.701      0.483     -35.863      75.780\n",
       "total_bedrooms          -179.7729    171.109     -1.051      0.293    -515.140     155.594\n",
       "households                71.7717    180.706      0.397      0.691    -282.406     425.950\n",
       "median_income           4.447e+04   7976.135      5.575      0.000    2.88e+04    6.01e+04\n",
       "near_ocean              7.043e+04   2.55e+04      2.766      0.006    2.05e+04     1.2e+05\n",
       "latitude                 673.0798   3007.061      0.224      0.823   -5220.652    6566.812\n",
       "longitude                 -5.2859   1099.064     -0.005      0.996   -2159.412    2148.841\n",
       "rooms_per_household    -2.669e+04   1.93e+04     -1.380      0.168   -6.46e+04    1.12e+04\n",
       "bedrooms_per_household  1.394e+05   1.18e+05      1.178      0.239   -9.25e+04    3.71e+05\n",
       "const                  -1.623e+04   2.23e+05     -0.073      0.942   -4.52e+05     4.2e+05\n",
       "==========================================================================================\n",
       "\"\"\""
      ]
     },
     "execution_count": 20,
     "metadata": {},
     "output_type": "execute_result"
    }
   ],
   "source": [
    "model.summary()"
   ]
  },
  {
   "cell_type": "markdown",
   "metadata": {},
   "source": [
    "### Calculate Root Mean Square Error"
   ]
  },
  {
   "cell_type": "code",
   "execution_count": 21,
   "metadata": {},
   "outputs": [],
   "source": [
    "import math"
   ]
  },
  {
   "cell_type": "code",
   "execution_count": 22,
   "metadata": {},
   "outputs": [],
   "source": [
    "def rmse(x, y):\n",
    "    N = len(x)\n",
    "    errors = 0\n",
    "    \n",
    "    for i in range(N):\n",
    "        errors += (x[i] - y[i]) ** 2\n",
    "    \n",
    "    return math.sqrt(errors / N)"
   ]
  },
  {
   "cell_type": "code",
   "execution_count": 23,
   "metadata": {},
   "outputs": [
    {
     "data": {
      "text/plain": [
       "89252.72763516215"
      ]
     },
     "execution_count": 23,
     "metadata": {},
     "output_type": "execute_result"
    }
   ],
   "source": [
    "rmse(model.predict(), df[target_var].values)"
   ]
  },
  {
   "cell_type": "markdown",
   "metadata": {},
   "source": [
    "### Calculate Model Lift"
   ]
  },
  {
   "cell_type": "markdown",
   "metadata": {},
   "source": [
    "Lift is an additional model statistic that measures the discrimination power.\n",
    "\n",
    "To calculate it, we first sort the data according to the target variable (actual median house value) in a descending order and calculate *lift* for each observation (row) as\n",
    "\n",
    "> lift  = 2 &times; (cm_pct_actual - cm_pct_weight) / total_weight\n",
    "\n",
    "where\n",
    "* cm_pct_actual is the cummulative percentage of total house value up to the given observation\n",
    "* cm_pct_weight is the cummulative percentage of total observation weights\n",
    "\n",
    "For simplicity, we give each observation in the dataset an equal weight of 1"
   ]
  },
  {
   "cell_type": "code",
   "execution_count": 24,
   "metadata": {},
   "outputs": [],
   "source": [
    "def calc_lift(values, weights):\n",
    "    cm_value = 0\n",
    "    cm_value_pct = 0\n",
    "    cm_weight = 0\n",
    "    cm_weight_pct = 0\n",
    "    \n",
    "    lift = 0\n",
    "    \n",
    "    for value,weight in zip(values, weights):\n",
    "        cm_value += value\n",
    "        cm_value_pct = cm_value / values.sum()\n",
    "        cm_weight += weight\n",
    "        cm_weight_pct = cm_weight / weights.sum()\n",
    "        \n",
    "        lift += 2 * (cm_value_pct - cm_weight_pct) / weights.sum()\n",
    "        \n",
    "    return lift"
   ]
  },
  {
   "cell_type": "code",
   "execution_count": 25,
   "metadata": {},
   "outputs": [
    {
     "data": {
      "text/plain": [
       "0.32422559553219715"
      ]
     },
     "execution_count": 25,
     "metadata": {},
     "output_type": "execute_result"
    }
   ],
   "source": [
    "calc_lift(df.sort_values(target_var, ascending=False)[target_var], np.ones(len(df)))"
   ]
  },
  {
   "cell_type": "markdown",
   "metadata": {},
   "source": [
    "Then we calculate lift when sorted by the predicted value"
   ]
  },
  {
   "cell_type": "code",
   "execution_count": 26,
   "metadata": {},
   "outputs": [],
   "source": [
    "df[\"predictions\"] = model.predict()"
   ]
  },
  {
   "cell_type": "code",
   "execution_count": 27,
   "metadata": {},
   "outputs": [
    {
     "data": {
      "text/plain": [
       "0.22910131012911644"
      ]
     },
     "execution_count": 27,
     "metadata": {},
     "output_type": "execute_result"
    }
   ],
   "source": [
    "calc_lift(df.sort_values(\"predictions\", ascending=False)[target_var], np.ones(len(df)))"
   ]
  },
  {
   "cell_type": "code",
   "execution_count": null,
   "metadata": {},
   "outputs": [],
   "source": []
  }
 ],
 "metadata": {
  "kernelspec": {
   "display_name": "Python 3",
   "language": "python",
   "name": "python3"
  },
  "language_info": {
   "codemirror_mode": {
    "name": "ipython",
    "version": 3
   },
   "file_extension": ".py",
   "mimetype": "text/x-python",
   "name": "python",
   "nbconvert_exporter": "python",
   "pygments_lexer": "ipython3",
   "version": "3.6.9"
  }
 },
 "nbformat": 4,
 "nbformat_minor": 2
}
