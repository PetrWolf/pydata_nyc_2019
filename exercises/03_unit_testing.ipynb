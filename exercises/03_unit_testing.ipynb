{
 "cells": [
  {
   "cell_type": "code",
   "execution_count": null,
   "metadata": {},
   "outputs": [],
   "source": [
    "# Disable the IPython pager\n",
    "# https://gist.github.com/minrk/7715212\n",
    "from IPython.core import page\n",
    "page.page = print"
   ]
  },
  {
   "cell_type": "markdown",
   "metadata": {},
   "source": [
    "# 03 - Unit Testing\n",
    "\n",
    "To enable testing (and code sharing), we will move the parsing logic of the \"location\" column from the [original notebook](../Tutorial.ipynb) to a separate file, `parsing.py`"
   ]
  },
  {
   "cell_type": "code",
   "execution_count": null,
   "metadata": {},
   "outputs": [],
   "source": [
    "%pycat parsing.py"
   ]
  },
  {
   "cell_type": "markdown",
   "metadata": {},
   "source": [
    "We can try it out in the notebook"
   ]
  },
  {
   "cell_type": "code",
   "execution_count": null,
   "metadata": {},
   "outputs": [],
   "source": [
    "from parsing import parse_location"
   ]
  },
  {
   "cell_type": "code",
   "execution_count": null,
   "metadata": {},
   "outputs": [],
   "source": [
    "parse_location(\"34.56 N 123.45 W\")"
   ]
  },
  {
   "cell_type": "markdown",
   "metadata": {},
   "source": [
    "That doesn't look very good. \n",
    "\n",
    "To automate and expand on this, we will create a new file, `test_parsing.py` and write the same as a \"unit test\" with expected values also"
   ]
  },
  {
   "cell_type": "code",
   "execution_count": null,
   "metadata": {},
   "outputs": [],
   "source": [
    "%pycat test_parsing.py"
   ]
  },
  {
   "cell_type": "markdown",
   "metadata": {},
   "source": [
    "To execute the test, type `pytest test_parsing.py` on the terminal in the `exercises` folder.\n",
    "\n",
    "It will look for all functions and methods beginning with `test_`, run them and report results.\n",
    "\n",
    "Typing just `pytest` would additionally look for all files beginning with `test_` under the working directory (or a given location).\n",
    "See [test naming conventions](http://doc.pytest.org/en/latest/goodpractices.html#conventions-for-python-test-discovery) for more info."
   ]
  },
  {
   "cell_type": "code",
   "execution_count": null,
   "metadata": {},
   "outputs": [],
   "source": [
    "!pytest test_parsing.py"
   ]
  },
  {
   "cell_type": "markdown",
   "metadata": {},
   "source": [
    "This shows that the test failed and highlights the differnce between expected and actual values.\n",
    "\n",
    "This means that aither the code has a bug or the test is wrong.\n",
    "\n",
    "Can you find the issue and fix it?"
   ]
  },
  {
   "cell_type": "markdown",
   "metadata": {},
   "source": [
    "..."
   ]
  },
  {
   "cell_type": "markdown",
   "metadata": {},
   "source": [
    "Afterwards, you can re-run the test and make sure it passes"
   ]
  },
  {
   "cell_type": "code",
   "execution_count": null,
   "metadata": {},
   "outputs": [],
   "source": [
    "!pytest test_parsing.py"
   ]
  },
  {
   "cell_type": "markdown",
   "metadata": {},
   "source": [
    "Now you can add more test cases, either as additional `assert` statements or `test_<something>()` functions.\n",
    "\n",
    "Try covering other locations (north, south, east, west) or special cases (poles, equator, prime meridian etc.)"
   ]
  },
  {
   "cell_type": "markdown",
   "metadata": {},
   "source": [
    "..."
   ]
  },
  {
   "cell_type": "markdown",
   "metadata": {},
   "source": [
    "Finally, let's also think about negative test cases - does the function behave as expected when given an invalid location on input?\n",
    "\n",
    "This can be tested with [`pytest.raises`](http://doc.pytest.org/en/latest/assert.html#assertions-about-expected-exceptions):\n",
    "\n",
    "```python\n",
    "def test_negative():\n",
    "    with pytest.raises(ValueError):  # expecting a ValueError\n",
    "        parse_location(\"invalid location\")\n",
    "```"
   ]
  },
  {
   "cell_type": "markdown",
   "metadata": {},
   "source": [
    "..."
   ]
  },
  {
   "cell_type": "code",
   "execution_count": null,
   "metadata": {},
   "outputs": [],
   "source": [
    "!pytest test_parsing.py"
   ]
  }
 ],
 "metadata": {
  "kernelspec": {
   "display_name": "Python 3",
   "language": "python",
   "name": "python3"
  },
  "language_info": {
   "codemirror_mode": {
    "name": "ipython",
    "version": 3
   },
   "file_extension": ".py",
   "mimetype": "text/x-python",
   "name": "python",
   "nbconvert_exporter": "python",
   "pygments_lexer": "ipython3",
   "version": "3.6.9"
  }
 },
 "nbformat": 4,
 "nbformat_minor": 2
}
