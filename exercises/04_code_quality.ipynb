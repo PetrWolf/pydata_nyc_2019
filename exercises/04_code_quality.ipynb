{
 "cells": [
  {
   "cell_type": "code",
   "execution_count": null,
   "metadata": {},
   "outputs": [],
   "source": [
    "# Disable the IPython pager\n",
    "# https://gist.github.com/minrk/7715212\n",
    "from IPython.core import page\n",
    "page.page = print"
   ]
  },
  {
   "cell_type": "markdown",
   "metadata": {},
   "source": [
    "# 04 - Code Quality"
   ]
  },
  {
   "cell_type": "markdown",
   "metadata": {},
   "source": [
    "Testing for correctness explored in the previous exercise may not always be sufficient. Unit tests are inherently limited in that they can only exercise a portion of the code base and use a small subset of the input space. Also and especially in larger projects, other aspects of the code such as readibility, consistent style, meaingful names and logical structire become paramount.\n",
    "\n",
    "Writing code without bugs and in a awya that makes it easily understandable to others takes skill and practice. Peer review is a great tool but can become counterproductive if overburdednde with tons of details or mixed with personal preferences.\n",
    "\n",
    "An entire class of tools exist to help in this area. From code analyzers, style checkers to automated code formatters.\n",
    "\n",
    "In this notebook, we will explore one such tool, [Pylint](https://www.pylint.org/) - a static code checker and bug detector for Python"
   ]
  },
  {
   "cell_type": "markdown",
   "metadata": {},
   "source": [
    "---"
   ]
  },
  {
   "cell_type": "markdown",
   "metadata": {},
   "source": [
    "Similarly to running `pytest`, we will run Pylint on the command line - either on specific files or entire directories."
   ]
  },
  {
   "cell_type": "markdown",
   "metadata": {},
   "source": [
    "To evaluate the code we have just written and tested in `parsing.py`, we can run"
   ]
  },
  {
   "cell_type": "code",
   "execution_count": null,
   "metadata": {},
   "outputs": [],
   "source": [
    "!pylint parsing.py"
   ]
  },
  {
   "cell_type": "markdown",
   "metadata": {},
   "source": [
    "If some issues seem too pendatic, you can disable them with `--disable` on the command line or using special comments in the code\n",
    "```\n",
    "some_intentionally_bad_line # pylint: disable=<error code>\n",
    "```"
   ]
  },
  {
   "cell_type": "code",
   "execution_count": null,
   "metadata": {},
   "outputs": [],
   "source": [
    "!pylint --disable=C0303,trailing-whitespace parsing.py"
   ]
  },
  {
   "cell_type": "markdown",
   "metadata": {},
   "source": [
    "Try fixing these issues and re-run Pylint"
   ]
  },
  {
   "cell_type": "markdown",
   "metadata": {},
   "source": [
    "---"
   ]
  },
  {
   "cell_type": "markdown",
   "metadata": {},
   "source": [
    "To see other types of issues, PyLint can automatically discover, consider the following code snippet.\n",
    "\n",
    "Can you see any bugs or issues?"
   ]
  },
  {
   "cell_type": "code",
   "execution_count": null,
   "metadata": {},
   "outputs": [],
   "source": [
    "%pycat bad_code.py"
   ]
  },
  {
   "cell_type": "markdown",
   "metadata": {},
   "source": [
    "Now run Pylint and see what it would highlight. Is there something you would have missed?"
   ]
  },
  {
   "cell_type": "code",
   "execution_count": null,
   "metadata": {},
   "outputs": [],
   "source": [
    "!pylint bad_code.py"
   ]
  },
  {
   "cell_type": "markdown",
   "metadata": {},
   "source": [
    "For more, see [Pylint tutorial](https://docs.pylint.org/en/1.6.0/tutorial.html)"
   ]
  }
 ],
 "metadata": {
  "kernelspec": {
   "display_name": "Python 3",
   "language": "python",
   "name": "python3"
  },
  "language_info": {
   "codemirror_mode": {
    "name": "ipython",
    "version": 3
   },
   "file_extension": ".py",
   "mimetype": "text/x-python",
   "name": "python",
   "nbconvert_exporter": "python",
   "pygments_lexer": "ipython3",
   "version": "3.6.9"
  }
 },
 "nbformat": 4,
 "nbformat_minor": 2
}
