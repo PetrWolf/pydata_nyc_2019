{
 "cells": [
  {
   "cell_type": "code",
   "execution_count": null,
   "metadata": {},
   "outputs": [],
   "source": [
    "# Disable the IPython pager\n",
    "# https://gist.github.com/minrk/7715212\n",
    "from IPython.core import page\n",
    "page.page = print"
   ]
  },
  {
   "cell_type": "code",
   "execution_count": null,
   "metadata": {},
   "outputs": [],
   "source": [
    "# enable the %lprun magic\n",
    "%load_ext line_profiler"
   ]
  },
  {
   "cell_type": "markdown",
   "metadata": {},
   "source": [
    "# 05 - Performance\n",
    "\n",
    "Make it Work, make it Right, Make it Fast."
   ]
  },
  {
   "cell_type": "code",
   "execution_count": null,
   "metadata": {},
   "outputs": [],
   "source": [
    "import math\n",
    "import numpy as np\n",
    "import numba "
   ]
  },
  {
   "cell_type": "markdown",
   "metadata": {},
   "source": [
    "In this exercise, we will be working with the [Root Mean Square Error](https://en.wikipedia.org/wiki/Root-mean-square_deviation) calculation used to evaluate a trained model.\n",
    "\n",
    "$RMSE = \\sqrt{\\frac{\\sum_{t=1}^{N}{(\\hat{y_t} - y_t)^2}}{N}}$"
   ]
  },
  {
   "cell_type": "markdown",
   "metadata": {},
   "source": [
    "A \"naive\" python implementation could look like this"
   ]
  },
  {
   "cell_type": "code",
   "execution_count": null,
   "metadata": {},
   "outputs": [],
   "source": [
    "def rmse(x, y):\n",
    "    N = len(x)\n",
    "    errors = 0\n",
    "    \n",
    "    for i in range(N):\n",
    "        errors += (x[i] - y[i]) ** 2\n",
    "    \n",
    "    return math.sqrt(errors / N)"
   ]
  },
  {
   "cell_type": "markdown",
   "metadata": {},
   "source": [
    "To test performance, let's generate random data"
   ]
  },
  {
   "cell_type": "code",
   "execution_count": null,
   "metadata": {},
   "outputs": [],
   "source": [
    "N = 1_000_000  # number of observations"
   ]
  },
  {
   "cell_type": "code",
   "execution_count": null,
   "metadata": {},
   "outputs": [],
   "source": [
    "X = np.random.randn(N)\n",
    "Y = np.random.randn(N)"
   ]
  },
  {
   "cell_type": "markdown",
   "metadata": {},
   "source": [
    "## Timing"
   ]
  },
  {
   "cell_type": "markdown",
   "metadata": {},
   "source": [
    "First, it is importnat to measure how long things actually take and interpret that in the context of the overall workflow.\n",
    "\n",
    "Use `%time` to measure the execution time of a given code snippet (or `%%time` when using more than one line)"
   ]
  },
  {
   "cell_type": "code",
   "execution_count": null,
   "metadata": {},
   "outputs": [],
   "source": [
    "%time rmse(X, Y)"
   ]
  },
  {
   "cell_type": "markdown",
   "metadata": {},
   "source": [
    "Sometimes, the execution time fluctuates or is different the first time (e.g. due to caching, initialization or other effectes)\n",
    "\n",
    "`%timeit` runs the given code snippet several times and calculates the average executino time. Use `%%timeit` for a multi-line version of that"
   ]
  },
  {
   "cell_type": "code",
   "execution_count": null,
   "metadata": {},
   "outputs": [],
   "source": [
    "%timeit rmse(X, Y)"
   ]
  },
  {
   "cell_type": "markdown",
   "metadata": {},
   "source": [
    "## Profiling\n",
    "To better understand where the time is spent, use the [python profiler](https://docs.python.org/3/library/profile.html) to get per-function timings"
   ]
  },
  {
   "cell_type": "code",
   "execution_count": null,
   "metadata": {},
   "outputs": [],
   "source": [
    "%prun rmse(X, Y)"
   ]
  },
  {
   "cell_type": "markdown",
   "metadata": {},
   "source": [
    "The output can also be visualized (e.g. using [SnakeViz](https://jiffyclub.github.io/snakeviz/)) "
   ]
  },
  {
   "cell_type": "markdown",
   "metadata": {},
   "source": [
    "The [Line Profiler](https://github.com/rkern/line_profiler) provides an even greater level of detail - line by line"
   ]
  },
  {
   "cell_type": "code",
   "execution_count": null,
   "metadata": {},
   "outputs": [],
   "source": [
    "%lprun -f rmse rmse(X, Y)"
   ]
  },
  {
   "cell_type": "markdown",
   "metadata": {},
   "source": [
    "The first observation is that most of the time is spent on line 6 (summing up values) and line 5 (iterating)"
   ]
  },
  {
   "cell_type": "markdown",
   "metadata": {},
   "source": [
    "## Optimization"
   ]
  },
  {
   "cell_type": "markdown",
   "metadata": {},
   "source": [
    "We can try operating on entire arrays instead, which is highly optimized in NumPy"
   ]
  },
  {
   "cell_type": "code",
   "execution_count": null,
   "metadata": {},
   "outputs": [],
   "source": [
    "def rmse_numpy(x, y):\n",
    "    N = len(x)\n",
    "    errors = (x - y) ** 2\n",
    "    mean = errors.sum() / N\n",
    "    return math.sqrt(mean)"
   ]
  },
  {
   "cell_type": "code",
   "execution_count": null,
   "metadata": {},
   "outputs": [],
   "source": [
    "%timeit rmse_numpy(X, Y)"
   ]
  },
  {
   "cell_type": "markdown",
   "metadata": {},
   "source": [
    "Compare against the original function"
   ]
  },
  {
   "cell_type": "code",
   "execution_count": null,
   "metadata": {},
   "outputs": [],
   "source": [
    "%timeit rmse(X, Y)"
   ]
  },
  {
   "cell_type": "markdown",
   "metadata": {},
   "source": [
    "This is a clear win, but perhaps we can do even more?"
   ]
  },
  {
   "cell_type": "code",
   "execution_count": null,
   "metadata": {},
   "outputs": [],
   "source": [
    "%lprun -f rmse_numpy rmse_numpy(X, Y)"
   ]
  },
  {
   "cell_type": "markdown",
   "metadata": {},
   "source": [
    "## Compilation\n",
    "\n",
    "For an even greater speedup, we can use [Numba](https://numba.pydata.org/) to compile the function to machine instructions which are faster to execute (think C/C++ or Java).\n",
    "\n",
    "This is achieved by adding the [`@njit`](https://numba.pydata.org/numba-doc/latest/reference/jit-compilation.html#numba.jit) decorator (for \"just-in_time\" and \"no python\")"
   ]
  },
  {
   "cell_type": "code",
   "execution_count": null,
   "metadata": {},
   "outputs": [],
   "source": [
    "@numba.njit\n",
    "def rmse_numba(x, y):\n",
    "    N = len(x)\n",
    "    errors = (x - y) ** 2\n",
    "    mean = errors.sum() / N\n",
    "    return math.sqrt(mean)"
   ]
  },
  {
   "cell_type": "markdown",
   "metadata": {},
   "source": [
    "The first time such a function will be caled, the compilation will take place, incresing the execution time"
   ]
  },
  {
   "cell_type": "code",
   "execution_count": null,
   "metadata": {},
   "outputs": [],
   "source": [
    "%time rmse_numba(X, Y)"
   ]
  },
  {
   "cell_type": "markdown",
   "metadata": {},
   "source": [
    "But all subsequent calls will be faster"
   ]
  },
  {
   "cell_type": "code",
   "execution_count": null,
   "metadata": {},
   "outputs": [],
   "source": [
    "%timeit rmse_numba(X, Y)"
   ]
  },
  {
   "cell_type": "markdown",
   "metadata": {},
   "source": [
    "The more complex the code under compilation, the stronger the effect will typically be (here, it's only a mild improvement)\n",
    "                                                                                        \n",
    "Why not compile everything with Numba?\n",
    "* not all code can be compilerd: most basic python and NumPy can be, complicated code (classes, dynamic code) or other libraries (e.g. Pandas) or data structures are not supported (see [Intel SDC](https://github.com/IntelPython/sdc) for that) \n",
    "* we can [no longer use line_profiler](https://stackoverflow.com/questions/54545511/using-line-profiler-with-numba-jitted-functions) or [debugger](https://numba.pydata.org/numba-doc/latest/user/faq.html#can-i-debug-a-jitted-function)"
   ]
  },
  {
   "cell_type": "markdown",
   "metadata": {},
   "source": [
    "## Library implementation"
   ]
  },
  {
   "cell_type": "code",
   "execution_count": null,
   "metadata": {},
   "outputs": [],
   "source": [
    "from statsmodels.tools import eval_measures"
   ]
  },
  {
   "cell_type": "code",
   "execution_count": null,
   "metadata": {},
   "outputs": [],
   "source": [
    "%timeit eval_measures.rmse(X, Y)"
   ]
  },
  {
   "cell_type": "markdown",
   "metadata": {},
   "source": [
    "Similar performance but most likely much more robust implementation (special cases, tests) make that the preferred option"
   ]
  },
  {
   "cell_type": "code",
   "execution_count": null,
   "metadata": {},
   "outputs": [],
   "source": []
  }
 ],
 "metadata": {
  "kernelspec": {
   "display_name": "Python 3",
   "language": "python",
   "name": "python3"
  },
  "language_info": {
   "codemirror_mode": {
    "name": "ipython",
    "version": 3
   },
   "file_extension": ".py",
   "mimetype": "text/x-python",
   "name": "python",
   "nbconvert_exporter": "python",
   "pygments_lexer": "ipython3",
   "version": "3.6.9"
  }
 },
 "nbformat": 4,
 "nbformat_minor": 2
}
