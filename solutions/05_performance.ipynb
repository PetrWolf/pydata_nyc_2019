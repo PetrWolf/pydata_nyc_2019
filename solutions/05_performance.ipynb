{
 "cells": [
  {
   "cell_type": "code",
   "execution_count": 1,
   "metadata": {},
   "outputs": [],
   "source": [
    "# Disable the IPython pager\n",
    "# https://gist.github.com/minrk/7715212\n",
    "from IPython.core import page\n",
    "page.page = print"
   ]
  },
  {
   "cell_type": "code",
   "execution_count": 2,
   "metadata": {},
   "outputs": [],
   "source": [
    "# enable the %lprun magic\n",
    "%load_ext line_profiler"
   ]
  },
  {
   "cell_type": "markdown",
   "metadata": {},
   "source": [
    "# 05 - Performance (solutions)\n",
    "\n",
    "This notebook contains sample solutions to exercises from [exercises/05_performance.ipynb](../exercises/05_performance.ipynb)"
   ]
  },
  {
   "cell_type": "markdown",
   "metadata": {},
   "source": [
    "Setup (the same as in the exercise notebook)"
   ]
  },
  {
   "cell_type": "code",
   "execution_count": 3,
   "metadata": {},
   "outputs": [],
   "source": [
    "import math\n",
    "import numpy as np\n",
    "import numba "
   ]
  },
  {
   "cell_type": "code",
   "execution_count": 4,
   "metadata": {},
   "outputs": [],
   "source": [
    "N = 1_000_000"
   ]
  },
  {
   "cell_type": "code",
   "execution_count": 5,
   "metadata": {},
   "outputs": [],
   "source": [
    "X = np.random.randn(N)\n",
    "Y = np.random.randn(N)"
   ]
  },
  {
   "cell_type": "code",
   "execution_count": 6,
   "metadata": {},
   "outputs": [],
   "source": [
    "@numba.njit\n",
    "def rmse_numba(x, y):\n",
    "    N = len(x)\n",
    "    errors = (x - y) ** 2\n",
    "    mean = errors.sum() / N\n",
    "    return math.sqrt(mean)"
   ]
  },
  {
   "cell_type": "markdown",
   "metadata": {},
   "source": [
    "## Parallel execution\n",
    "\n",
    "Using [`parallel=True`](https://numba.pydata.org/numba-doc/dev/user/parallel.html) in `@njit` can let some operatons run in parallel and better utilize the CPU"
   ]
  },
  {
   "cell_type": "code",
   "execution_count": 7,
   "metadata": {},
   "outputs": [],
   "source": [
    "@numba.njit(parallel=True)\n",
    "def rmse_numba_parallel(x, y):\n",
    "    N = len(x)\n",
    "    errors = (x - y) ** 2\n",
    "    mean = errors.sum() / N\n",
    "    return math.sqrt(mean)"
   ]
  },
  {
   "cell_type": "code",
   "execution_count": 8,
   "metadata": {},
   "outputs": [
    {
     "name": "stdout",
     "output_type": "stream",
     "text": [
      "8.74 ms ± 509 µs per loop (mean ± std. dev. of 7 runs, 1 loop each)\n"
     ]
    }
   ],
   "source": [
    "%timeit rmse_numba(X, Y)"
   ]
  },
  {
   "cell_type": "code",
   "execution_count": 9,
   "metadata": {},
   "outputs": [
    {
     "name": "stdout",
     "output_type": "stream",
     "text": [
      "1.03 ms ± 106 µs per loop (mean ± std. dev. of 7 runs, 1 loop each)\n"
     ]
    }
   ],
   "source": [
    "%timeit rmse_numba_parallel(X, Y)"
   ]
  },
  {
   "cell_type": "markdown",
   "metadata": {},
   "source": [
    "# Profile and optimize `calc_lift()`"
   ]
  },
  {
   "cell_type": "code",
   "execution_count": 10,
   "metadata": {},
   "outputs": [],
   "source": [
    "def calc_lift(values, weights):\n",
    "    cm_value = 0\n",
    "    cm_value_pct = 0\n",
    "    cm_weight = 0\n",
    "    cm_weight_pct = 0\n",
    "    \n",
    "    lift = 0\n",
    "    \n",
    "    for value,weight in zip(values, weights):\n",
    "        cm_value += value\n",
    "        cm_value_pct = cm_value / values.sum()\n",
    "        cm_weight += weight\n",
    "        cm_weight_pct = cm_weight / weights.sum()\n",
    "        \n",
    "        lift += 2 * (cm_value_pct - cm_weight_pct) / weights.sum()\n",
    "        \n",
    "    return lift"
   ]
  },
  {
   "cell_type": "code",
   "execution_count": 11,
   "metadata": {},
   "outputs": [],
   "source": [
    "M = 10_000"
   ]
  },
  {
   "cell_type": "code",
   "execution_count": 12,
   "metadata": {},
   "outputs": [],
   "source": [
    "V = np.random.randn(M)\n",
    "W = np.ones(M)"
   ]
  },
  {
   "cell_type": "code",
   "execution_count": 13,
   "metadata": {},
   "outputs": [
    {
     "name": "stdout",
     "output_type": "stream",
     "text": [
      "888 ms ± 301 ms per loop (mean ± std. dev. of 7 runs, 1 loop each)\n"
     ]
    }
   ],
   "source": [
    "%timeit calc_lift(V, W)"
   ]
  },
  {
   "cell_type": "code",
   "execution_count": 14,
   "metadata": {},
   "outputs": [
    {
     "name": "stdout",
     "output_type": "stream",
     "text": [
      "Timer unit: 1e-07 s\n",
      "\n",
      "Total time: 1.3794 s\n",
      "File: <ipython-input-10-115a3bb8d352>\n",
      "Function: calc_lift at line 1\n",
      "\n",
      "Line #      Hits         Time  Per Hit   % Time  Line Contents\n",
      "==============================================================\n",
      "     1                                           def calc_lift(values, weights):\n",
      "     2         1         34.0     34.0      0.0      cm_value = 0\n",
      "     3         1         18.0     18.0      0.0      cm_value_pct = 0\n",
      "     4         1         15.0     15.0      0.0      cm_weight = 0\n",
      "     5         1         15.0     15.0      0.0      cm_weight_pct = 0\n",
      "     6                                               \n",
      "     7         1         15.0     15.0      0.0      lift = 0\n",
      "     8                                               \n",
      "     9     10001     433167.0     43.3      3.1      for value,weight in zip(values, weights):\n",
      "    10     10000     281699.0     28.2      2.0          cm_value += value\n",
      "    11     10000    4111433.0    411.1     29.8          cm_value_pct = cm_value / values.sum()\n",
      "    12     10000     434137.0     43.4      3.1          cm_weight += weight\n",
      "    13     10000    4084037.0    408.4     29.6          cm_weight_pct = cm_weight / weights.sum()\n",
      "    14                                                   \n",
      "    15     10000    4449446.0    444.9     32.3          lift += 2 * (cm_value_pct - cm_weight_pct) / weights.sum()\n",
      "    16                                                   \n",
      "    17         1         16.0     16.0      0.0      return lift\n"
     ]
    }
   ],
   "source": [
    "%lprun -f calc_lift calc_lift(V, W)"
   ]
  },
  {
   "cell_type": "markdown",
   "metadata": {},
   "source": [
    "As the easiest option, let's just add `@numba.njit`"
   ]
  },
  {
   "cell_type": "code",
   "execution_count": 15,
   "metadata": {},
   "outputs": [],
   "source": [
    "@numba.njit\n",
    "def lift_numba(values, weights):\n",
    "    cm_value = 0\n",
    "    cm_value_pct = 0\n",
    "    cm_weight = 0\n",
    "    cm_weight_pct = 0\n",
    "    \n",
    "    lift = 0\n",
    "    \n",
    "    for value,weight in zip(values, weights):\n",
    "        cm_value += value\n",
    "        cm_value_pct = cm_value / values.sum()\n",
    "        cm_weight += weight\n",
    "        cm_weight_pct = cm_weight / weights.sum()\n",
    "        \n",
    "        lift += 2 * (cm_value_pct - cm_weight_pct) / weights.sum()\n",
    "        \n",
    "    return lift"
   ]
  },
  {
   "cell_type": "code",
   "execution_count": 16,
   "metadata": {},
   "outputs": [
    {
     "name": "stdout",
     "output_type": "stream",
     "text": [
      "440 ms ± 18.6 ms per loop (mean ± std. dev. of 7 runs, 1 loop each)\n"
     ]
    }
   ],
   "source": [
    "%timeit lift_numba(V, W)"
   ]
  },
  {
   "cell_type": "markdown",
   "metadata": {},
   "source": [
    "We can achieve better results (and with less code) by using functinoality already available in Numpy:\n",
    "* vectorized operations and \n",
    "* cummulative sum ([`cumsum()`](https://docs.scipy.org/doc/numpy/reference/generated/numpy.cumsum.html))"
   ]
  },
  {
   "cell_type": "code",
   "execution_count": 17,
   "metadata": {},
   "outputs": [],
   "source": [
    "def lift_numpy(values, weights):\n",
    "    cm_pct_actual = (values / values.sum()).cumsum()\n",
    "    cm_pct_weight = (weights / weights.sum()).cumsum()\n",
    "    lift = 2 * (cm_pct_actual - cm_pct_weight) / weights.sum()\n",
    "    \n",
    "    return lift.sum()"
   ]
  },
  {
   "cell_type": "code",
   "execution_count": 18,
   "metadata": {},
   "outputs": [
    {
     "name": "stdout",
     "output_type": "stream",
     "text": [
      "528 µs ± 118 µs per loop (mean ± std. dev. of 7 runs, 1000 loops each)\n"
     ]
    }
   ],
   "source": [
    "%timeit lift_numpy(V, W)"
   ]
  },
  {
   "cell_type": "markdown",
   "metadata": {},
   "source": [
    "As a final experiment, let's try to JIT that"
   ]
  },
  {
   "cell_type": "code",
   "execution_count": 19,
   "metadata": {},
   "outputs": [],
   "source": [
    "@numba.njit\n",
    "def lift_numpy_numba(values, weights):\n",
    "    cm_pct_actual = (values / values.sum()).cumsum()\n",
    "    cm_pct_weight = (weights / weights.sum()).cumsum()\n",
    "    lift = 2 * (cm_pct_actual - cm_pct_weight) / weights.sum()\n",
    "    \n",
    "    return lift.sum()"
   ]
  },
  {
   "cell_type": "code",
   "execution_count": 20,
   "metadata": {},
   "outputs": [
    {
     "name": "stdout",
     "output_type": "stream",
     "text": [
      "252 µs ± 51.2 µs per loop (mean ± std. dev. of 7 runs, 1 loop each)\n"
     ]
    }
   ],
   "source": [
    "%timeit lift_numpy_numba(V, W)"
   ]
  },
  {
   "cell_type": "code",
   "execution_count": null,
   "metadata": {},
   "outputs": [],
   "source": []
  }
 ],
 "metadata": {
  "kernelspec": {
   "display_name": "Python 3",
   "language": "python",
   "name": "python3"
  },
  "language_info": {
   "codemirror_mode": {
    "name": "ipython",
    "version": 3
   },
   "file_extension": ".py",
   "mimetype": "text/x-python",
   "name": "python",
   "nbconvert_exporter": "python",
   "pygments_lexer": "ipython3",
   "version": "3.6.9"
  }
 },
 "nbformat": 4,
 "nbformat_minor": 2
}
