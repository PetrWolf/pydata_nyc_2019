{
 "cells": [
  {
   "cell_type": "code",
   "execution_count": 1,
   "metadata": {},
   "outputs": [],
   "source": [
    "# Disable the IPython pager\n",
    "# https://gist.github.com/minrk/7715212\n",
    "from IPython.core import page\n",
    "page.page = print"
   ]
  },
  {
   "cell_type": "markdown",
   "metadata": {},
   "source": [
    "# 04 - Code Quality (solutions)\n",
    "\n",
    "This notebook contains sample solutions to exercises from [exercises/04_code_quality.ipynb](../exercises/04_code_quality.ipynb)"
   ]
  },
  {
   "cell_type": "code",
   "execution_count": 2,
   "metadata": {},
   "outputs": [
    {
     "name": "stdout",
     "output_type": "stream",
     "text": [
      "************* Module solutions.parsing\n",
      "parsing.py:12:9: C0303: Trailing whitespace (trailing-whitespace)\n",
      "parsing.py:13:82: C0303: Trailing whitespace (trailing-whitespace)\n",
      "parsing.py:15:0: C0303: Trailing whitespace (trailing-whitespace)\n",
      "parsing.py:33:13: C0303: Trailing whitespace (trailing-whitespace)\n",
      "parsing.py:42:0: C0303: Trailing whitespace (trailing-whitespace)\n",
      "\n",
      "-----------------------------------\n",
      "\n",
      "Your code has been rated at 5.45/10\n",
      "\n",
      "\n",
      "\n"
     ]
    }
   ],
   "source": [
    "!pylint parsing.py"
   ]
  },
  {
   "cell_type": "code",
   "execution_count": null,
   "metadata": {},
   "outputs": [],
   "source": []
  }
 ],
 "metadata": {
  "kernelspec": {
   "display_name": "Python 3",
   "language": "python",
   "name": "python3"
  },
  "language_info": {
   "codemirror_mode": {
    "name": "ipython",
    "version": 3
   },
   "file_extension": ".py",
   "mimetype": "text/x-python",
   "name": "python",
   "nbconvert_exporter": "python",
   "pygments_lexer": "ipython3",
   "version": "3.6.9"
  }
 },
 "nbformat": 4,
 "nbformat_minor": 2
}
